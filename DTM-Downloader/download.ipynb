{
 "cells": [
  {
   "cell_type": "code",
   "execution_count": 1,
   "metadata": {},
   "outputs": [
    {
     "name": "stdout",
     "output_type": "stream",
     "text": [
      "Requirement already satisfied: requests in /opt/homebrew/Caskroom/miniconda/base/lib/python3.12/site-packages (2.32.3)\n",
      "Requirement already satisfied: tqdm in /opt/homebrew/Caskroom/miniconda/base/lib/python3.12/site-packages (4.66.4)\n",
      "Collecting pandas\n",
      "  Downloading pandas-2.2.3-cp312-cp312-macosx_11_0_arm64.whl.metadata (89 kB)\n",
      "Requirement already satisfied: charset-normalizer<4,>=2 in /opt/homebrew/Caskroom/miniconda/base/lib/python3.12/site-packages (from requests) (3.3.2)\n",
      "Requirement already satisfied: idna<4,>=2.5 in /opt/homebrew/Caskroom/miniconda/base/lib/python3.12/site-packages (from requests) (3.7)\n",
      "Requirement already satisfied: urllib3<3,>=1.21.1 in /opt/homebrew/Caskroom/miniconda/base/lib/python3.12/site-packages (from requests) (2.2.2)\n",
      "Requirement already satisfied: certifi>=2017.4.17 in /opt/homebrew/Caskroom/miniconda/base/lib/python3.12/site-packages (from requests) (2024.8.30)\n",
      "Requirement already satisfied: numpy>=1.26.0 in /opt/homebrew/Caskroom/miniconda/base/lib/python3.12/site-packages (from pandas) (1.26.4)\n",
      "Requirement already satisfied: python-dateutil>=2.8.2 in /opt/homebrew/Caskroom/miniconda/base/lib/python3.12/site-packages (from pandas) (2.9.0)\n",
      "Collecting pytz>=2020.1 (from pandas)\n",
      "  Downloading pytz-2024.2-py2.py3-none-any.whl.metadata (22 kB)\n",
      "Collecting tzdata>=2022.7 (from pandas)\n",
      "  Downloading tzdata-2024.1-py2.py3-none-any.whl.metadata (1.4 kB)\n",
      "Requirement already satisfied: six>=1.5 in /opt/homebrew/Caskroom/miniconda/base/lib/python3.12/site-packages (from python-dateutil>=2.8.2->pandas) (1.16.0)\n",
      "Downloading pandas-2.2.3-cp312-cp312-macosx_11_0_arm64.whl (11.4 MB)\n",
      "\u001b[2K   \u001b[90m━━━━━━━━━━━━━━━━━━━━━━━━━━━━━━━━━━━━━━━━\u001b[0m \u001b[32m11.4/11.4 MB\u001b[0m \u001b[31m3.7 MB/s\u001b[0m eta \u001b[36m0:00:00\u001b[0ma \u001b[36m0:00:01\u001b[0m\n",
      "\u001b[?25hDownloading pytz-2024.2-py2.py3-none-any.whl (508 kB)\n",
      "Downloading tzdata-2024.1-py2.py3-none-any.whl (345 kB)\n",
      "Installing collected packages: pytz, tzdata, pandas\n",
      "Successfully installed pandas-2.2.3 pytz-2024.2 tzdata-2024.1\n",
      "Note: you may need to restart the kernel to use updated packages.\n"
     ]
    }
   ],
   "source": [
    "pip install requests tqdm pandas\n"
   ]
  },
  {
   "cell_type": "code",
   "execution_count": 1,
   "metadata": {},
   "outputs": [
    {
     "name": "stdout",
     "output_type": "stream",
     "text": [
      "Downloading Cochrane A from OMAFRA Lidar 2016-18 (2.91 GB)...\n"
     ]
    },
    {
     "name": "stderr",
     "output_type": "stream",
     "text": [
      "LIDAR2016to18_DTM-Crne-A.zip:  56%|█████▌    | 1.55G/2.78G [11:20<09:57, 2.20MB/s] "
     ]
    }
   ],
   "source": [
    "import os\n",
    "import requests\n",
    "import pandas as pd\n",
    "from tqdm import tqdm\n",
    "from urllib.parse import urlparse\n",
    "\n",
    "# Function to download a file with resumption support\n",
    "def download_file(url, folder, chunk_size=1024):\n",
    "    # Parse the URL to get the original file name\n",
    "    file_name = os.path.basename(urlparse(url).path)\n",
    "    file_path = os.path.join(folder, file_name)\n",
    "    \n",
    "    # Check if file already exists and get its size\n",
    "    if os.path.exists(file_path):\n",
    "        resume_header = {'Range': f'bytes={os.path.getsize(file_path)}-'}\n",
    "        resume_mode = 'ab'  # append mode\n",
    "        start_pos = os.path.getsize(file_path)\n",
    "    else:\n",
    "        resume_header = {}\n",
    "        resume_mode = 'wb'  # write mode (new file)\n",
    "        start_pos = 0\n",
    "    \n",
    "    # Start the request with resume headers if applicable\n",
    "    response = requests.get(url, stream=True, headers=resume_header)\n",
    "    total_size = int(response.headers.get('content-length', 0)) + start_pos\n",
    "\n",
    "    # Download with a progress bar\n",
    "    with open(file_path, resume_mode) as file, tqdm(\n",
    "        desc=file_name,\n",
    "        total=total_size,\n",
    "        unit='B',\n",
    "        unit_scale=True,\n",
    "        unit_divisor=1024,\n",
    "        initial=start_pos,\n",
    "        miniters=1\n",
    "    ) as bar:\n",
    "        for chunk in response.iter_content(chunk_size=chunk_size):\n",
    "            if chunk:\n",
    "                file.write(chunk)\n",
    "                bar.update(len(chunk))\n",
    "\n",
    "    return file_name  # Return the file name after downloading\n",
    "\n",
    "# Read the CSV file\n",
    "df = pd.read_csv('DTM_download.csv')\n",
    "\n",
    "# Add a new 'Status' column to track the download progress if it doesn't already exist\n",
    "if 'Status' not in df.columns:\n",
    "    df['Status'] = 'Incomplete'\n",
    "\n",
    "# Set the download folder (you can customize this)\n",
    "download_folder = '/Users/shuyang/Data/DTM_ZIP'\n",
    "\n",
    "# Create the download folder if it doesn't exist\n",
    "if not os.path.exists(download_folder):\n",
    "    os.makedirs(download_folder)\n",
    "\n",
    "# Loop through each row in the CSV and download the file\n",
    "for index, row in df.iterrows():\n",
    "    project = row['Project']\n",
    "    package = row['Package']\n",
    "    size = row['Size']\n",
    "    resolution = row['Res. (m)']\n",
    "    download_link = row['Download Link']\n",
    "    \n",
    "    # Check if the file is already marked as 'Completed'\n",
    "    if df.loc[index, 'Status'] == 'Completed':\n",
    "        print(f\"{download_link} is already downloaded.\")\n",
    "        continue\n",
    "\n",
    "    try:\n",
    "        # Download the file and use the original name from the URL\n",
    "        print(f\"Downloading {package} from {project} ({size} GB)...\")\n",
    "        file_name = download_file(download_link, download_folder)\n",
    "        \n",
    "        # Mark as completed\n",
    "        df.loc[index, 'Status'] = 'Completed'\n",
    "        df.loc[index, 'Downloaded File Name'] = file_name\n",
    "        print(f\"{file_name} downloaded successfully.\")\n",
    "    \n",
    "    except Exception as e:\n",
    "        print(f\"Error downloading {download_link}: {e}\")\n",
    "        df.loc[index, 'Status'] = 'Error'\n",
    "        break  # Stop the loop if an error occurs\n",
    "\n",
    "# Save the updated CSV with download status and file names\n",
    "df.to_csv('DTM_download_updated.csv', index=False)\n",
    "print(\"Download process completed. Updated CSV saved as 'DTM_download_updated.csv'.\")\n"
   ]
  },
  {
   "cell_type": "code",
   "execution_count": null,
   "metadata": {},
   "outputs": [],
   "source": []
  }
 ],
 "metadata": {
  "kernelspec": {
   "display_name": "base",
   "language": "python",
   "name": "python3"
  },
  "language_info": {
   "codemirror_mode": {
    "name": "ipython",
    "version": 3
   },
   "file_extension": ".py",
   "mimetype": "text/x-python",
   "name": "python",
   "nbconvert_exporter": "python",
   "pygments_lexer": "ipython3",
   "version": "3.12.2"
  }
 },
 "nbformat": 4,
 "nbformat_minor": 2
}
