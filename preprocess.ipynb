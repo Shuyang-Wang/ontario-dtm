{
 "cells": [
  {
   "cell_type": "code",
   "execution_count": 40,
   "metadata": {},
   "outputs": [],
   "source": [
    "import os\n",
    "import numpy as np\n",
    "import rasterio\n",
    "from rasterio.enums import Resampling\n",
    "import matplotlib.pyplot as plt\n",
    "from matplotlib import colors"
   ]
  },
  {
   "cell_type": "code",
   "execution_count": 41,
   "metadata": {},
   "outputs": [],
   "source": [
    "import os\n",
    "\n",
    "# Define workspace folder\n",
    "workspace_folder = \"/Users/shuyang/Data/DTM/LakeNipissing-DTM-A\" \n",
    "#workspace_folder = '/Users/shuyang/Data/DTM/Lake Erie/LIDAR2016to18_DTM-LkErie-R'\n",
    "\n",
    "# Define specific subfolders based on the workspace\n",
    "input_folder = os.path.join(workspace_folder, \"DTM\")  # Input folder for DTM data\n",
    "adjusted_output_folder = os.path.join(workspace_folder, \"DTM_adj\")  # Output folder for adjusted rasters\n",
    "pseudocolor_output_folder = os.path.join(workspace_folder, \"pseudocolor\")  # Output folder for pseudocolor images\n"
   ]
  },
  {
   "cell_type": "code",
   "execution_count": null,
   "metadata": {},
   "outputs": [],
   "source": []
  },
  {
   "cell_type": "code",
   "execution_count": 42,
   "metadata": {},
   "outputs": [],
   "source": [
    "def find_global_min_max(folder):\n",
    "    global_min, global_max = float('inf'), float('-inf')\n",
    "    \n",
    "    for filename in os.listdir(folder):\n",
    "        if filename.endswith('.img') or filename.endswith('.tif') and not filename.startswith('._'):\n",
    "            filepath = os.path.join(folder, filename)\n",
    "            try:\n",
    "                with rasterio.open(filepath) as dataset:\n",
    "                    data = dataset.read(1, resampling=Resampling.nearest)  # Read first band\n",
    "                    no_data_value = dataset.nodata\n",
    "\n",
    "                    # Mask out NoData values before finding min and max\n",
    "                    if no_data_value is not None:\n",
    "                        data = np.ma.masked_equal(data, no_data_value)\n",
    "\n",
    "                    # Update global min and max\n",
    "                    min_value = data.min()\n",
    "                    max_value = data.max()\n",
    "                    global_min = min(global_min, min_value)\n",
    "                    global_max = max(global_max, max_value)\n",
    "\n",
    "            except rasterio.errors.RasterioIOError:\n",
    "                print(f\"Skipping invalid file: {filename}\")\n",
    "    \n",
    "    return global_min, global_max"
   ]
  },
  {
   "cell_type": "code",
   "execution_count": 43,
   "metadata": {},
   "outputs": [
    {
     "name": "stdout",
     "output_type": "stream",
     "text": [
      "Minimum value of all rasters: 176.593994140625\n",
      "Maximum value of all rasters: 237.48599243164062\n"
     ]
    }
   ],
   "source": [
    "\n",
    "# Step 1: Find the minimum and maximum values\n",
    "min_value, max_value = find_global_min_max(input_folder)\n",
    "local_min = min_value\n",
    "local_max  = max_value\n",
    "print(f\"Minimum value of all rasters: {min_value}\")\n",
    "print(f\"Maximum value of all rasters: {max_value}\")"
   ]
  },
  {
   "cell_type": "code",
   "execution_count": 44,
   "metadata": {},
   "outputs": [],
   "source": [
    "regional_min = 0\n",
    "regional_max = 700"
   ]
  },
  {
   "cell_type": "code",
   "execution_count": null,
   "metadata": {},
   "outputs": [],
   "source": []
  },
  {
   "cell_type": "code",
   "execution_count": 45,
   "metadata": {},
   "outputs": [
    {
     "data": {
      "image/png": "[encoded data removed]",
      "text/html": [
       "<div style=\"vertical-align: middle;\"><strong>double_hue</strong> </div><div class=\"cmap\"><img alt=\"double_hue colormap\" title=\"double_hue\" style=\"border: 1px solid #555;\" src=\"data:image/png;base64,iVBORw0KGgoAAAANSUhEUgAAAgAAAABACAYAAABsv8+/AAAAGXRFWHRUaXRsZQBkb3VibGVfaHVlIGNvbG9ybWFwW1tggQAAAB90RVh0RGVzY3JpcHRpb24AZG91YmxlX2h1ZSBjb2xvcm1hcCFzoc8AAAAwdEVYdEF1dGhvcgBNYXRwbG90bGliIHYzLjkuMiwgaHR0cHM6Ly9tYXRwbG90bGliLm9yZ2GZxVMAAAAydEVYdFNvZnR3YXJlAE1hdHBsb3RsaWIgdjMuOS4yLCBodHRwczovL21hdHBsb3RsaWIub3JnTz9adAAABAlJREFUeJzt1ttSU2sQReHRJMpZIRHk5H7/51JQkIMKSA6i7Iu/V7Li3m/Q46tKzc6qNZPbGS/wwj/QPsHK/aHl/R58BD4SfAI+LbLd58ALZ1n8QCzyA+1HzoiHffgEcZ7Fc4guz1ue/oGz/NuzgDNW7/14bC9yDnGxmly0+/h3K5zSSt192vJpBOcEF8BF5ue8u/zNe+CUaMXMk7xP4GlEfM7iZxb34tkXOHzORrQ8Bk7yPgkYMWkvxpcsf2nfF88u4eBXK3blY+A48whm48hGcJnty7y7nDMmOAKOia7IUT47IuZjskBcAlfL5BLiCvbncBSt+Z5293PMvL3IFcTXLPfu+Ap7s/by+ywdZub9PIYrgq+Qn1jJa2DGW+CQaKW8D4GDls9juIa4bj8S11m8Xt5vZnCQ7YNo9yKBcfzOwk2Wb5Z33LTvu1N4l6VF5v0O/oyDfJMbgtuVhFuCKdtEKwHvCMa9HMPLuP3dHcQtkJ+4XT7bmtLejpajzO7ZiBeIu1bg7v/vrSmMsjziv/d+cBfwjeAO+Ea7+zlhg2gvL7Ldvfwe8A3iOyvJ93avT2A/WnMP2OvuyO/AWvxYFujuXr6eLMt7wNsul/f9WvAj2z9o9/0iYcJr4C3RSr37zSJ5GBD3rdBl/341pXuTN/FXArsBAx4hHoCHLOfd5atJe3E3y7vkJxb5NGjtB4LHXrZPMGFIsJPFHWKRvWeTATxCdMWfeWcOprADbEfLnYBtls+2gWFMWoGfEE+ZP4G8B9P2Ylfo7q1lTofwRPBEP5f3jLUsbhFsrWS7N2E2JCZZnNDuXq5NYTP/djNgk/zEMofMszTtZe+OWXtxI8sbscwNYAN+DYPWajnLewbMMmGDyELL9bzXgXXieUhXjnnmLH9s3p6tA+uRmffr3rMBz1meL7N/xy/WkCRJ5TgAJEkqyAEgSVJBDgBJkgpyAEiSVJADQJKkghwAkiQV5ACQJKkgB4AkSQU5ACRJKsgBIElSQQ4ASZIKcgBIklSQA0CSpIIcAJIkFeQAkCSpIAeAJEkFOQAkSSrIASBJUkEOAEmSCnIASJJUkANAkqSCHACSJBXkAJAkqSAHgCRJBTkAJEkqyAEgSVJBDgBJkgpyAEiSVJADQJKkghwAkiQV5ACQJKkgB4AkSQU5ACRJKsgBIElSQQ4ASZIKcgBIklSQA0CSpIIcAJIkFeQAkCSpIAeAJEkFOQAkSSrIASBJUkEOAEmSCnIASJJUkANAkqSCHACSJBXkAJAkqSAHgCRJBTkAJEkqyAEgSVJBDgBJkgpyAEiSVJADQJKkghwAkiQV5ACQJKkgB4AkSQU5ACRJKsgBIElSQQ4ASZIKcgBIklSQA0CSpIIcAJIkFfQvjmUhJQBIdd8AAAAASUVORK5CYII=\"></div><div style=\"vertical-align: middle; max-width: 514px; display: flex; justify-content: space-between;\"><div style=\"float: left;\"><div title=\"#ff0000ff\" style=\"display: inline-block; width: 1em; height: 1em; margin: 0; vertical-align: middle; border: 1px solid #555; background-color: #ff0000ff;\"></div> under</div><div style=\"margin: 0 auto; display: inline-block;\">bad <div title=\"#00000000\" style=\"display: inline-block; width: 1em; height: 1em; margin: 0; vertical-align: middle; border: 1px solid #555; background-color: #00000000;\"></div></div><div style=\"float: right;\">over <div title=\"#ffccccff\" style=\"display: inline-block; width: 1em; height: 1em; margin: 0; vertical-align: middle; border: 1px solid #555; background-color: #ffccccff;\"></div></div></div>"
      ],
      "text/plain": [
       "<matplotlib.colors.ListedColormap at 0x1483ed1f0>"
      ]
     },
     "execution_count": 45,
     "metadata": {},
     "output_type": "execute_result"
    }
   ],
   "source": [
    "import numpy as np\n",
    "import matplotlib.pyplot as plt\n",
    "from matplotlib.colors import ListedColormap, hsv_to_rgb\n",
    "\n",
    "def double_hue_cmap(name='double_hue'):\n",
    "    # Create an array of values from 0 to 1\n",
    "    x = np.linspace(0, 1, 25600)\n",
    "\n",
    "    # Map x to hue values that cycle from 0 to 2 (twice around the hue circle)\n",
    "    h = np.mod(10 * x, 1)\n",
    "\n",
    "    # Saturation and Value are fixed at 1\n",
    "    s = np.linspace(1,0.2 , 25600)\n",
    "    v = np.ones_like(h) \n",
    "\n",
    "    # Stack to get HSV values\n",
    "    hsv = np.stack((h, s, v), axis=1)\n",
    "    # Convert HSV to RGB\n",
    "    rgb = hsv_to_rgb(hsv)\n",
    "\n",
    "    # Create a ListedColormap\n",
    "    cmap = ListedColormap(rgb, name=name)\n",
    "    return cmap\n",
    "\n",
    "# Create the custom colormap\n",
    "double_cmap = double_hue_cmap()\n",
    "double_cmap"
   ]
  },
  {
   "cell_type": "markdown",
   "metadata": {},
   "source": [
    "## Generate Pseudocolor"
   ]
  },
  {
   "cell_type": "code",
   "execution_count": 46,
   "metadata": {},
   "outputs": [],
   "source": [
    "import os\n",
    "import numpy as np\n",
    "import rasterio\n",
    "from matplotlib import pyplot as plt\n",
    "from matplotlib import colors\n",
    "\n",
    "# Function to create a high-resolution colormap by interpolation\n",
    "def create_high_res_colormap(cmap_name='terrain', num_colors=1024):\n",
    "    base_cmap = plt.get_cmap(cmap_name)\n",
    "    color_indices = np.linspace(0, 1, num_colors)\n",
    "    high_res_cmap = colors.LinearSegmentedColormap.from_list(\n",
    "        'high_res', base_cmap(color_indices), N=num_colors\n",
    "    )\n",
    "    return high_res_cmap\n",
    "\n",
    "# Main function for creating pseudocolor images using a custom colormap\n",
    "def create_pseudocolor_images_from_original(folder, min_value, max_value, output_folder, cmap):\n",
    "    if not os.path.exists(output_folder):\n",
    "        os.makedirs(output_folder)\n",
    "    \n",
    "    norm = colors.Normalize(vmin=min_value, vmax=max_value)\n",
    "\n",
    "    for filename in sorted(os.listdir(folder)):\n",
    "        if filename.endswith('.img') or filename.endswith('.tif') and not filename.startswith('._'):\n",
    "            filepath = os.path.join(folder, filename)\n",
    "            try:\n",
    "                with rasterio.open(filepath) as dataset:\n",
    "                    # Read the first band and the mask for no-data values\n",
    "                    data = dataset.read(1)\n",
    "                    no_data = dataset.nodata\n",
    "\n",
    "                    # Create a mask for no-data values (True where data is valid)\n",
    "                    valid_mask = data != no_data\n",
    "\n",
    "                    # Normalize data and apply high-resolution colormap\n",
    "                    normalized_data = np.zeros_like(data, dtype=np.float32)\n",
    "                    normalized_data[valid_mask] = norm(data[valid_mask])\n",
    "\n",
    "                    # Apply colormap\n",
    "                    rgba_img = cmap(normalized_data)\n",
    "\n",
    "                    # Set no-data pixels to transparent\n",
    "                    rgba_img[~valid_mask, :] = [0, 0, 0, 0]  # RGBA for transparent (alpha = 0)\n",
    "\n",
    "                    # Convert RGBA to RGB (ignoring the alpha channel)\n",
    "                    rgb_img = np.uint8(rgba_img[:, :, :3] * 255)\n",
    "\n",
    "                    # Save as RGB GeoTIFF\n",
    "                    output_path = os.path.join(output_folder, filename.replace('.img', '_pseudocolor.tif'))\n",
    "                    with rasterio.open(\n",
    "                        output_path,\n",
    "                        'w',\n",
    "                        driver='GTiff',\n",
    "                        height=rgb_img.shape[0],\n",
    "                        width=rgb_img.shape[1],\n",
    "                        count=3,\n",
    "                        dtype='uint8',\n",
    "                        crs=dataset.crs,\n",
    "                        transform=dataset.transform\n",
    "                    ) as dst:\n",
    "                        # Write RGB channels\n",
    "                        for i in range(3):\n",
    "                            dst.write(rgb_img[:, :, i], i + 1)\n",
    "\n",
    "            except rasterio.errors.RasterioIOError:\n",
    "                print(f\"Skipping invalid file: {filename}\")\n",
    "\n"
   ]
  },
  {
   "cell_type": "code",
   "execution_count": 47,
   "metadata": {},
   "outputs": [],
   "source": [
    "# Step 1: Create the custom colormap\n",
    "custom_cmap = create_high_res_colormap(cmap_name='terrain', num_colors=5560)\n",
    "\n",
    "# Step 2: Generate pseudocolor images using the custom colormap\n",
    "create_pseudocolor_images_from_original(input_folder, regional_min, regional_max, pseudocolor_output_folder, double_cmap)\n"
   ]
  },
  {
   "cell_type": "code",
   "execution_count": null,
   "metadata": {},
   "outputs": [],
   "source": []
  },
  {
   "cell_type": "markdown",
   "metadata": {},
   "source": [
    "## DTM_adj"
   ]
  },
  {
   "cell_type": "code",
   "execution_count": 36,
   "metadata": {},
   "outputs": [],
   "source": [
    "import os\n",
    "import numpy as np\n",
    "import rasterio\n",
    "from rasterio.enums import Resampling\n",
    "\n",
    "# Step 2: Rescale raster files based on the global min and max, with no-data handling\n",
    "def rescale_and_save(folder, output_folder, global_min, global_max, nodata_value=32768):\n",
    "    if not os.path.exists(output_folder):\n",
    "        os.makedirs(output_folder)\n",
    "        \n",
    "    for filename in os.listdir(folder):\n",
    "        if filename.endswith('.img') or filename.endswith('tif'):\n",
    "            filepath = os.path.join(folder, filename)\n",
    "            with rasterio.open(filepath) as dataset:\n",
    "                data = dataset.read(1, resampling=Resampling.nearest)  # Read the first band\n",
    "                \n",
    "                # Retrieve no-data value from the dataset\n",
    "                no_data = dataset.nodata\n",
    "\n",
    "                # Create a mask for valid data\n",
    "                valid_mask = data != no_data\n",
    "\n",
    "                # Perform rescaling using global min and max for valid data only\n",
    "                adjusted_data = np.zeros_like(data, dtype=np.float32)\n",
    "                adjusted_data[valid_mask] = (data[valid_mask] - global_min) / (global_max - global_min) * 65535\n",
    "                \n",
    "                # Set no-data areas to the specified grey value (e.g., 32768 for 16-bit)\n",
    "                adjusted_data[~valid_mask] = nodata_value\n",
    "\n",
    "                # Save adjusted raster as GeoTIFF\n",
    "                output_path = os.path.join(output_folder, filename.replace('.img', '_rescaled.tif'))\n",
    "                with rasterio.open(\n",
    "                    output_path,\n",
    "                    'w',\n",
    "                    driver='GTiff',\n",
    "                    height=dataset.height,\n",
    "                    width=dataset.width,\n",
    "                    count=1,\n",
    "                    dtype=rasterio.uint16,  # Save as 16-bit unsigned integer\n",
    "                    crs=dataset.crs,\n",
    "                    transform=dataset.transform,\n",
    "                    nodata=nodata_value  # Set the no-data value for the output file\n",
    "                ) as dst:\n",
    "                    dst.write(adjusted_data.astype(rasterio.uint16), 1)\n",
    "\n",
    "# Rescale and save all files using global min and max\n",
    "rescale_and_save(input_folder, adjusted_output_folder, local_min, local_max)\n"
   ]
  },
  {
   "cell_type": "code",
   "execution_count": null,
   "metadata": {},
   "outputs": [],
   "source": []
  },
  {
   "cell_type": "code",
   "execution_count": null,
   "metadata": {},
   "outputs": [],
   "source": []
  },
  {
   "cell_type": "code",
   "execution_count": 37,
   "metadata": {},
   "outputs": [
    {
     "name": "stdout",
     "output_type": "stream",
     "text": [
      "Lookup Table: Original Value -> Scaled Value\n",
      "------------------------------------------\n",
      "195.52 -> 0.00\n",
      "215.49 -> 7281.67\n",
      "235.46 -> 14563.33\n",
      "255.43 -> 21845.00\n",
      "275.40 -> 29126.67\n",
      "295.36 -> 36408.33\n",
      "315.33 -> 43690.00\n",
      "335.30 -> 50971.67\n",
      "355.27 -> 58253.33\n",
      "375.24 -> 65535.00\n",
      "\n",
      "Vertical Exaggeration:\n",
      "VE = 364.65\n"
     ]
    }
   ],
   "source": [
    "def print_lookup_table(global_min, global_max):\n",
    "    # Generate a sample of original values between the global min and max\n",
    "    original_values = np.linspace(global_min, global_max, num=10)  # 10 evenly spaced values for the table\n",
    "\n",
    "    # Calculate corresponding scaled values\n",
    "    scaled_values = (original_values - global_min) / (global_max - global_min) * 65535\n",
    "\n",
    "    # Calculate vertical exaggeration\n",
    "    vertical_exaggeration = 65535 / (global_max - global_min)\n",
    "\n",
    "    # Print the lookup table\n",
    "    print(\"Lookup Table: Original Value -> Scaled Value\")\n",
    "    print(\"------------------------------------------\")\n",
    "    for original, scaled in zip(original_values, scaled_values):\n",
    "        print(f\"{original:.2f} -> {scaled:.2f}\")\n",
    "\n",
    "    # Print vertical exaggeration\n",
    "    print(\"\\nVertical Exaggeration:\")\n",
    "    print(f\"VE = {vertical_exaggeration:.2f}\")\n",
    "    \n",
    "\n",
    "print_lookup_table(local_min, local_max)"
   ]
  },
  {
   "cell_type": "code",
   "execution_count": 38,
   "metadata": {},
   "outputs": [
    {
     "data": {
      "text/plain": [
       "1.3722315229025441"
      ]
     },
     "execution_count": 38,
     "metadata": {},
     "output_type": "execute_result"
    }
   ],
   "source": [
    "1/364.37 * 500"
   ]
  },
  {
   "cell_type": "code",
   "execution_count": 13,
   "metadata": {},
   "outputs": [
    {
     "data": {
      "text/plain": [
       "0.37037037037037035"
      ]
     },
     "execution_count": 13,
     "metadata": {},
     "output_type": "execute_result"
    }
   ],
   "source": [
    "1/1350 * 500"
   ]
  },
  {
   "cell_type": "code",
   "execution_count": 29,
   "metadata": {},
   "outputs": [
    {
     "data": {
      "text/plain": [
       "500.0"
      ]
     },
     "execution_count": 29,
     "metadata": {},
     "output_type": "execute_result"
    }
   ],
   "source": [
    "1/1*500"
   ]
  },
  {
   "cell_type": "code",
   "execution_count": null,
   "metadata": {},
   "outputs": [],
   "source": []
  }
 ],
 "metadata": {
  "kernelspec": {
   "display_name": "base",
   "language": "python",
   "name": "python3"
  },
  "language_info": {
   "codemirror_mode": {
    "name": "ipython",
    "version": 3
   },
   "file_extension": ".py",
   "mimetype": "text/x-python",
   "name": "python",
   "nbconvert_exporter": "python",
   "pygments_lexer": "ipython3",
   "version": "3.9.10"
  }
 },
 "nbformat": 4,
 "nbformat_minor": 2
}
