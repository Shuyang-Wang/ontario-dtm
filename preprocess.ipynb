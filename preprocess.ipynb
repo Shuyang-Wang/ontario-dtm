{
 "cells": [
  {
   "cell_type": "code",
   "execution_count": 38,
   "metadata": {},
   "outputs": [],
   "source": [
    "import os\n",
    "import numpy as np\n",
    "import rasterio\n",
    "from rasterio.enums import Resampling\n",
    "import matplotlib.pyplot as plt\n",
    "from matplotlib import colors"
   ]
  },
  {
   "cell_type": "code",
   "execution_count": 39,
   "metadata": {},
   "outputs": [],
   "source": [
    "input_folder = \"/Users/shuyang/Data/DTM/LakeNipissing-DTM-A/DTM\"  # Change to your folder path\n",
    "adjusted_output_folder = \"/Users/shuyang/Data/DTM/LakeNipissing-DTM-A/DTM_adj\"  # Change to desired output folder for adjusted rasters\n",
    "pseudocolor_output_folder = \"/Users/shuyang/Data/DTM/LakeNipissing-DTM-A/pseudocolor\"  # Change to desired output folder for pseudocolor images\n",
    "\n",
    "\n",
    "# input_folder = \"Elora/DTM\"  # Change to your folder path\n",
    "# adjusted_output_folder = \"Elora/DTM_adj\"  # Change to desired output folder for adjusted rasters\n",
    "# pseudocolor_output_folder = \"Elora/pseudocolor\"  # Change to desired output folder for pseudocolor images"
   ]
  },
  {
   "cell_type": "code",
   "execution_count": null,
   "metadata": {},
   "outputs": [],
   "source": []
  },
  {
   "cell_type": "code",
   "execution_count": 40,
   "metadata": {},
   "outputs": [],
   "source": [
    "def find_global_min_max(folder):\n",
    "    global_min, global_max = float('inf'), float('-inf')\n",
    "    \n",
    "    for filename in os.listdir(folder):\n",
    "        if filename.endswith('.img') and not filename.startswith('._'):\n",
    "            filepath = os.path.join(folder, filename)\n",
    "            try:\n",
    "                with rasterio.open(filepath) as dataset:\n",
    "                    data = dataset.read(1, resampling=Resampling.nearest)  # Read first band\n",
    "                    no_data_value = dataset.nodata\n",
    "\n",
    "                    # Mask out NoData values before finding min and max\n",
    "                    if no_data_value is not None:\n",
    "                        data = np.ma.masked_equal(data, no_data_value)\n",
    "\n",
    "                    # Update global min and max\n",
    "                    min_value = data.min()\n",
    "                    max_value = data.max()\n",
    "                    global_min = min(global_min, min_value)\n",
    "                    global_max = max(global_max, max_value)\n",
    "\n",
    "            except rasterio.errors.RasterioIOError:\n",
    "                print(f\"Skipping invalid file: {filename}\")\n",
    "    \n",
    "    return global_min, global_max"
   ]
  },
  {
   "cell_type": "code",
   "execution_count": 41,
   "metadata": {},
   "outputs": [
    {
     "ename": "KeyboardInterrupt",
     "evalue": "",
     "output_type": "error",
     "traceback": [
      "\u001b[0;31m---------------------------------------------------------------------------\u001b[0m",
      "\u001b[0;31mKeyboardInterrupt\u001b[0m                         Traceback (most recent call last)",
      "Input \u001b[0;32mIn [41]\u001b[0m, in \u001b[0;36m<cell line: 2>\u001b[0;34m()\u001b[0m\n\u001b[1;32m      1\u001b[0m \u001b[38;5;66;03m# Step 1: Find the minimum and maximum values\u001b[39;00m\n\u001b[0;32m----> 2\u001b[0m min_value, max_value \u001b[38;5;241m=\u001b[39m \u001b[43mfind_global_min_max\u001b[49m\u001b[43m(\u001b[49m\u001b[43minput_folder\u001b[49m\u001b[43m)\u001b[49m\n\u001b[1;32m      3\u001b[0m global_min \u001b[38;5;241m=\u001b[39m min_value\n\u001b[1;32m      4\u001b[0m global_max \u001b[38;5;241m=\u001b[39m max_value\n",
      "Input \u001b[0;32mIn [40]\u001b[0m, in \u001b[0;36mfind_global_min_max\u001b[0;34m(folder)\u001b[0m\n\u001b[1;32m      6\u001b[0m filepath \u001b[38;5;241m=\u001b[39m os\u001b[38;5;241m.\u001b[39mpath\u001b[38;5;241m.\u001b[39mjoin(folder, filename)\n\u001b[1;32m      7\u001b[0m \u001b[38;5;28;01mtry\u001b[39;00m:\n\u001b[0;32m----> 8\u001b[0m     \u001b[38;5;28;01mwith\u001b[39;00m \u001b[43mrasterio\u001b[49m\u001b[38;5;241;43m.\u001b[39;49m\u001b[43mopen\u001b[49m\u001b[43m(\u001b[49m\u001b[43mfilepath\u001b[49m\u001b[43m)\u001b[49m \u001b[38;5;28;01mas\u001b[39;00m dataset:\n\u001b[1;32m      9\u001b[0m         data \u001b[38;5;241m=\u001b[39m dataset\u001b[38;5;241m.\u001b[39mread(\u001b[38;5;241m1\u001b[39m, resampling\u001b[38;5;241m=\u001b[39mResampling\u001b[38;5;241m.\u001b[39mnearest)  \u001b[38;5;66;03m# Read first band\u001b[39;00m\n\u001b[1;32m     10\u001b[0m         no_data_value \u001b[38;5;241m=\u001b[39m dataset\u001b[38;5;241m.\u001b[39mnodata\n",
      "File \u001b[0;32m~/miniforge3/lib/python3.9/site-packages/rasterio/env.py:451\u001b[0m, in \u001b[0;36mensure_env_with_credentials.<locals>.wrapper\u001b[0;34m(*args, **kwds)\u001b[0m\n\u001b[1;32m    448\u001b[0m     session \u001b[38;5;241m=\u001b[39m DummySession()\n\u001b[1;32m    450\u001b[0m \u001b[38;5;28;01mwith\u001b[39;00m env_ctor(session\u001b[38;5;241m=\u001b[39msession):\n\u001b[0;32m--> 451\u001b[0m     \u001b[38;5;28;01mreturn\u001b[39;00m \u001b[43mf\u001b[49m\u001b[43m(\u001b[49m\u001b[38;5;241;43m*\u001b[39;49m\u001b[43margs\u001b[49m\u001b[43m,\u001b[49m\u001b[43m \u001b[49m\u001b[38;5;241;43m*\u001b[39;49m\u001b[38;5;241;43m*\u001b[39;49m\u001b[43mkwds\u001b[49m\u001b[43m)\u001b[49m\n",
      "File \u001b[0;32m~/miniforge3/lib/python3.9/site-packages/rasterio/__init__.py:304\u001b[0m, in \u001b[0;36mopen\u001b[0;34m(fp, mode, driver, width, height, count, crs, transform, dtype, nodata, sharing, **kwargs)\u001b[0m\n\u001b[1;32m    301\u001b[0m path \u001b[38;5;241m=\u001b[39m _parse_path(raw_dataset_path)\n\u001b[1;32m    303\u001b[0m \u001b[38;5;28;01mif\u001b[39;00m mode \u001b[38;5;241m==\u001b[39m \u001b[38;5;124m\"\u001b[39m\u001b[38;5;124mr\u001b[39m\u001b[38;5;124m\"\u001b[39m:\n\u001b[0;32m--> 304\u001b[0m     dataset \u001b[38;5;241m=\u001b[39m \u001b[43mDatasetReader\u001b[49m\u001b[43m(\u001b[49m\u001b[43mpath\u001b[49m\u001b[43m,\u001b[49m\u001b[43m \u001b[49m\u001b[43mdriver\u001b[49m\u001b[38;5;241;43m=\u001b[39;49m\u001b[43mdriver\u001b[49m\u001b[43m,\u001b[49m\u001b[43m \u001b[49m\u001b[43msharing\u001b[49m\u001b[38;5;241;43m=\u001b[39;49m\u001b[43msharing\u001b[49m\u001b[43m,\u001b[49m\u001b[43m \u001b[49m\u001b[38;5;241;43m*\u001b[39;49m\u001b[38;5;241;43m*\u001b[39;49m\u001b[43mkwargs\u001b[49m\u001b[43m)\u001b[49m\n\u001b[1;32m    305\u001b[0m \u001b[38;5;28;01melif\u001b[39;00m mode \u001b[38;5;241m==\u001b[39m \u001b[38;5;124m\"\u001b[39m\u001b[38;5;124mr+\u001b[39m\u001b[38;5;124m\"\u001b[39m:\n\u001b[1;32m    306\u001b[0m     dataset \u001b[38;5;241m=\u001b[39m get_writer_for_path(path, driver\u001b[38;5;241m=\u001b[39mdriver)(\n\u001b[1;32m    307\u001b[0m         path, mode, driver\u001b[38;5;241m=\u001b[39mdriver, sharing\u001b[38;5;241m=\u001b[39msharing, \u001b[38;5;241m*\u001b[39m\u001b[38;5;241m*\u001b[39mkwargs\n\u001b[1;32m    308\u001b[0m     )\n",
      "File \u001b[0;32mrasterio/_base.pyx:314\u001b[0m, in \u001b[0;36mrasterio._base.DatasetBase.__init__\u001b[0;34m()\u001b[0m\n",
      "File \u001b[0;32m~/miniforge3/lib/python3.9/site-packages/rasterio/_path.py:121\u001b[0m, in \u001b[0;36m_UnparsedPath.name\u001b[0;34m(self)\u001b[0m\n\u001b[1;32m    112\u001b[0m \u001b[38;5;124;03m\"\"\"Encapsulates legacy GDAL filenames\u001b[39;00m\n\u001b[1;32m    113\u001b[0m \n\u001b[1;32m    114\u001b[0m \u001b[38;5;124;03mAttributes\u001b[39;00m\n\u001b[0;32m   (...)\u001b[0m\n\u001b[1;32m    117\u001b[0m \u001b[38;5;124;03m    The legacy GDAL filename.\u001b[39;00m\n\u001b[1;32m    118\u001b[0m \u001b[38;5;124;03m\"\"\"\u001b[39;00m\n\u001b[1;32m    119\u001b[0m path \u001b[38;5;241m=\u001b[39m attr\u001b[38;5;241m.\u001b[39mib()\n\u001b[0;32m--> 121\u001b[0m \u001b[38;5;129m@property\u001b[39m\n\u001b[1;32m    122\u001b[0m \u001b[38;5;28;01mdef\u001b[39;00m \u001b[38;5;21mname\u001b[39m(\u001b[38;5;28mself\u001b[39m):\n\u001b[1;32m    123\u001b[0m     \u001b[38;5;124;03m\"\"\"The unparsed path's original path\"\"\"\u001b[39;00m\n\u001b[1;32m    124\u001b[0m     \u001b[38;5;28;01mreturn\u001b[39;00m \u001b[38;5;28mself\u001b[39m\u001b[38;5;241m.\u001b[39mpath\n",
      "\u001b[0;31mKeyboardInterrupt\u001b[0m: "
     ]
    }
   ],
   "source": [
    "\n",
    "# Step 1: Find the minimum and maximum values\n",
    "min_value, max_value = find_global_min_max(input_folder)\n",
    "global_min = min_value\n",
    "global_max = max_value\n",
    "print(f\"Minimum value of all rasters: {min_value}\")\n",
    "print(f\"Maximum value of all rasters: {max_value}\")"
   ]
  },
  {
   "cell_type": "code",
   "execution_count": null,
   "metadata": {},
   "outputs": [],
   "source": []
  },
  {
   "cell_type": "code",
   "execution_count": null,
   "metadata": {},
   "outputs": [],
   "source": []
  },
  {
   "cell_type": "code",
   "execution_count": 26,
   "metadata": {},
   "outputs": [
    {
     "data": {
      "image/png": "[encoded data removed]",
      "text/html": [
       "<div style=\"vertical-align: middle;\"><strong>double_hue</strong> </div><div class=\"cmap\"><img alt=\"double_hue colormap\" title=\"double_hue\" style=\"border: 1px solid #555;\" src=\"data:image/png;base64,iVBORw0KGgoAAAANSUhEUgAAAgAAAABACAYAAABsv8+/AAAAGXRFWHRUaXRsZQBkb3VibGVfaHVlIGNvbG9ybWFwW1tggQAAAB90RVh0RGVzY3JpcHRpb24AZG91YmxlX2h1ZSBjb2xvcm1hcCFzoc8AAAAwdEVYdEF1dGhvcgBNYXRwbG90bGliIHYzLjUuMSwgaHR0cHM6Ly9tYXRwbG90bGliLm9yZ/e3zs8AAAAydEVYdFNvZnR3YXJlAE1hdHBsb3RsaWIgdjMuNS4xLCBodHRwczovL21hdHBsb3RsaWIub3Jn2RFR6AAAAZhJREFUeJzt1stqwlAUQNFr1OL/f23xlY5LsVpMrLDXgjORTHLuNezNPMY89mOMj/efy26M4/g+p/Hzt3eYeeweeKl7iz88+NwTc92vu4gFD2h7fe2Vu7X1w93n5hUXuvBML17qE3Pc/H61Pm+85au/EZcxLfjiK3+cT9P6//1bB/OHA9qc//36PXw623FeaaHLH9A0AIAcAQAAQQIAAIIEAAAECQAACBIAABAkAAAgSAAAQJAAAIAgAQAAQQIAAIIEAAAECQAACBIAABAkAAAgSAAAQJAAAIAgAQAAQQIAAIIEAAAECQAACBIAABAkAAAgSAAAQJAAAIAgAQAAQQIAAIIEAAAECQAACBIAABAkAAAgSAAAQJAAAIAgAQAAQQIAAIIEAAAECQAACBIAABAkAAAgSAAAQJAAAIAgAQAAQQIAAIIEAAAECQAACBIAABAkAAAgSAAAQJAAAIAgAQAAQQIAAIIEAAAECQAACBIAABAkAAAgSAAAQJAAAIAgAQAAQQIAAIIEAAAECQAACBIAABAkAAAg6AunigeNfXhGdwAAAABJRU5ErkJggg==\"></div><div style=\"vertical-align: middle; max-width: 514px; display: flex; justify-content: space-between;\"><div style=\"float: left;\"><div title=\"#ff0000ff\" style=\"display: inline-block; width: 1em; height: 1em; margin: 0; vertical-align: middle; border: 1px solid #555; background-color: #ff0000ff;\"></div> under</div><div style=\"margin: 0 auto; display: inline-block;\">bad <div title=\"#00000000\" style=\"display: inline-block; width: 1em; height: 1em; margin: 0; vertical-align: middle; border: 1px solid #555; background-color: #00000000;\"></div></div><div style=\"float: right;\">over <div title=\"#ff0000ff\" style=\"display: inline-block; width: 1em; height: 1em; margin: 0; vertical-align: middle; border: 1px solid #555; background-color: #ff0000ff;\"></div></div>"
      ],
      "text/plain": [
       "<matplotlib.colors.ListedColormap at 0x1324a50a0>"
      ]
     },
     "execution_count": 26,
     "metadata": {},
     "output_type": "execute_result"
    }
   ],
   "source": [
    "import numpy as np\n",
    "import matplotlib.pyplot as plt\n",
    "from matplotlib.colors import ListedColormap, hsv_to_rgb\n",
    "\n",
    "def double_hue_cmap(name='double_hue'):\n",
    "    # Create an array of values from 0 to 1\n",
    "    x = np.linspace(0, 1, 2560)\n",
    "\n",
    "    # Map x to hue values that cycle from 0 to 2 (twice around the hue circle)\n",
    "    h = np.mod(2 * x, 1)\n",
    "\n",
    "    # Saturation and Value are fixed at 1\n",
    "    s = np.ones_like(h) \n",
    "    v = np.ones_like(h) \n",
    "\n",
    "    # Stack to get HSV values\n",
    "    hsv = np.stack((h, s, v), axis=1)\n",
    "    # Convert HSV to RGB\n",
    "    rgb = hsv_to_rgb(hsv)\n",
    "\n",
    "    # Create a ListedColormap\n",
    "    cmap = ListedColormap(rgb, name=name)\n",
    "    return cmap\n",
    "\n",
    "# Create the custom colormap\n",
    "double_cmap = double_hue_cmap()\n",
    "double_cmap"
   ]
  },
  {
   "cell_type": "code",
   "execution_count": 42,
   "metadata": {},
   "outputs": [],
   "source": [
    "# Function to create a high-resolution colormap by interpolation\n",
    "def create_high_res_colormap(cmap_name='terrain', num_colors=1024):\n",
    "    base_cmap = plt.get_cmap(cmap_name)\n",
    "    color_indices = np.linspace(0, 1, num_colors)\n",
    "    high_res_cmap = colors.LinearSegmentedColormap.from_list(\n",
    "        'high_res', base_cmap(color_indices), N=num_colors\n",
    "    )\n",
    "    return high_res_cmap\n",
    "\n",
    "# Main function for creating pseudocolor images using a custom colormap\n",
    "def create_pseudocolor_images_from_original(folder, min_value, max_value, output_folder, cmap):\n",
    "    if not os.path.exists(output_folder):\n",
    "        os.makedirs(output_folder)\n",
    "    \n",
    "    norm = colors.Normalize(vmin=min_value, vmax=max_value)\n",
    "\n",
    "    for filename in sorted(os.listdir(folder)):\n",
    "        if filename.endswith('.img') and not filename.startswith('._'):\n",
    "            filepath = os.path.join(folder, filename)\n",
    "            try:\n",
    "                with rasterio.open(filepath) as dataset:\n",
    "                    data = dataset.read(1)\n",
    "                    \n",
    "                    # Normalize data and apply high-resolution colormap\n",
    "                    normalized_data = norm(data)\n",
    "                    rgba_img = cmap(normalized_data)\n",
    "                    rgb_img = np.uint8(rgba_img[:, :, :3] * 255)  # Convert RGBA to RGB\n",
    "\n",
    "                    # Save as RGB GeoTIFF\n",
    "                    output_path = os.path.join(output_folder, filename.replace('.img', '_pseudocolor.tif'))\n",
    "                    with rasterio.open(\n",
    "                        output_path,\n",
    "                        'w',\n",
    "                        driver='GTiff',\n",
    "                        height=rgb_img.shape[0],\n",
    "                        width=rgb_img.shape[1],\n",
    "                        count=3,\n",
    "                        dtype='uint8',\n",
    "                        crs=dataset.crs,\n",
    "                        transform=dataset.transform\n",
    "                    ) as dst:\n",
    "                        # Write RGB channels\n",
    "                        for i in range(3):\n",
    "                            dst.write(rgb_img[:, :, i], i + 1)\n",
    "\n",
    "            except rasterio.errors.RasterioIOError:\n",
    "                print(f\"Skipping invalid file: {filename}\")"
   ]
  },
  {
   "cell_type": "code",
   "execution_count": 45,
   "metadata": {},
   "outputs": [
    {
     "name": "stderr",
     "output_type": "stream",
     "text": [
      "/Users/b/miniforge3/lib/python3.9/site-packages/matplotlib/colors.py:621: RuntimeWarning: overflow encountered in multiply\n",
      "  xa *= self.N\n"
     ]
    }
   ],
   "source": [
    "# Step 1: Create the custom colormap\n",
    "custom_cmap = create_high_res_colormap(cmap_name='terrain', num_colors=5560)\n",
    "\n",
    "# Step 2: Generate pseudocolor images using the custom colormap\n",
    "create_pseudocolor_images_from_original(input_folder, min_value, max_value, pseudocolor_output_folder, double_cmap)\n"
   ]
  },
  {
   "cell_type": "code",
   "execution_count": null,
   "metadata": {},
   "outputs": [],
   "source": []
  },
  {
   "cell_type": "code",
   "execution_count": 58,
   "metadata": {},
   "outputs": [],
   "source": [
    "import os\n",
    "import numpy as np\n",
    "import rasterio\n",
    "from rasterio.enums import Resampling\n",
    "\n",
    "\n",
    "\n",
    "# Step 2: Rescale raster files based on the global min and max\n",
    "def rescale_and_save(folder, output_folder, global_min, global_max):\n",
    "    if not os.path.exists(output_folder):\n",
    "        os.makedirs(output_folder)\n",
    "        \n",
    "    for filename in os.listdir(folder):\n",
    "        if filename.endswith('.img'):\n",
    "            filepath = os.path.join(folder, filename)\n",
    "            with rasterio.open(filepath) as dataset:\n",
    "                data = dataset.read(1, resampling=Resampling.nearest)  # Read first band\n",
    "                \n",
    "                # Perform rescaling using global min and max\n",
    "                adjusted_data = (data - global_min) / (global_max - global_min) * 65535\n",
    "                \n",
    "                # Preserve NaN areas (if any)\n",
    "                adjusted_data[np.isnan(data)] = np.nan\n",
    "                \n",
    "                # Save adjusted raster as GeoTIFF\n",
    "                output_path = os.path.join(output_folder, filename.replace('.img', '_rescaled.tif'))\n",
    "                with rasterio.open(\n",
    "                    output_path,\n",
    "                    'w',\n",
    "                    driver='GTiff',\n",
    "                    height=dataset.height,\n",
    "                    width=dataset.width,\n",
    "                    count=1,\n",
    "                    dtype=rasterio.uint16,  # Save as 16-bit unsigned integer\n",
    "                    crs=dataset.crs,\n",
    "                    transform=dataset.transform\n",
    "                ) as dst:\n",
    "                    dst.write(adjusted_data.astype(rasterio.uint16), 1)\n",
    "\n",
    "\n",
    "\n",
    "\n",
    "\n",
    "# Rescale and save all files using global min and max\n",
    "rescale_and_save(input_folder, adjusted_output_folder, global_min, global_max)\n"
   ]
  },
  {
   "cell_type": "code",
   "execution_count": null,
   "metadata": {},
   "outputs": [],
   "source": []
  },
  {
   "cell_type": "code",
   "execution_count": null,
   "metadata": {},
   "outputs": [],
   "source": []
  },
  {
   "cell_type": "code",
   "execution_count": 10,
   "metadata": {},
   "outputs": [
    {
     "name": "stdout",
     "output_type": "stream",
     "text": [
      "Lookup Table: Original Value -> Scaled Value\n",
      "------------------------------------------\n",
      "341.82 -> 0.00\n",
      "351.22 -> 7281.67\n",
      "360.63 -> 14563.33\n",
      "370.03 -> 21845.00\n",
      "379.43 -> 29126.67\n",
      "388.84 -> 36408.33\n",
      "398.24 -> 43690.00\n",
      "407.64 -> 50971.67\n",
      "417.05 -> 58253.33\n",
      "426.45 -> 65535.00\n",
      "\n",
      "Vertical Exaggeration:\n",
      "VE = 774.37\n"
     ]
    }
   ],
   "source": [
    "def print_lookup_table(global_min, global_max):\n",
    "    # Generate a sample of original values between the global min and max\n",
    "    original_values = np.linspace(global_min, global_max, num=10)  # 10 evenly spaced values for the table\n",
    "\n",
    "    # Calculate corresponding scaled values\n",
    "    scaled_values = (original_values - global_min) / (global_max - global_min) * 65535\n",
    "\n",
    "    # Calculate vertical exaggeration\n",
    "    vertical_exaggeration = 65535 / (global_max - global_min)\n",
    "\n",
    "    # Print the lookup table\n",
    "    print(\"Lookup Table: Original Value -> Scaled Value\")\n",
    "    print(\"------------------------------------------\")\n",
    "    for original, scaled in zip(original_values, scaled_values):\n",
    "        print(f\"{original:.2f} -> {scaled:.2f}\")\n",
    "\n",
    "    # Print vertical exaggeration\n",
    "    print(\"\\nVertical Exaggeration:\")\n",
    "    print(f\"VE = {vertical_exaggeration:.2f}\")\n",
    "    \n",
    "\n",
    "print_lookup_table(global_min, global_max)\n",
    "\n"
   ]
  },
  {
   "cell_type": "code",
   "execution_count": 19,
   "metadata": {},
   "outputs": [
    {
     "data": {
      "text/plain": [
       "0.6456861706935961"
      ]
     },
     "execution_count": 19,
     "metadata": {},
     "output_type": "execute_result"
    }
   ],
   "source": [
    "1/774.37 * 500"
   ]
  },
  {
   "cell_type": "code",
   "execution_count": 21,
   "metadata": {},
   "outputs": [
    {
     "data": {
      "text/plain": [
       "1.5"
      ]
     },
     "execution_count": 21,
     "metadata": {},
     "output_type": "execute_result"
    }
   ],
   "source": [
    "0.003*500"
   ]
  }
 ],
 "metadata": {
  "kernelspec": {
   "display_name": "base",
   "language": "python",
   "name": "python3"
  },
  "language_info": {
   "codemirror_mode": {
    "name": "ipython",
    "version": 3
   },
   "file_extension": ".py",
   "mimetype": "text/x-python",
   "name": "python",
   "nbconvert_exporter": "python",
   "pygments_lexer": "ipython3",
   "version": "3.9.10"
  }
 },
 "nbformat": 4,
 "nbformat_minor": 2
}
