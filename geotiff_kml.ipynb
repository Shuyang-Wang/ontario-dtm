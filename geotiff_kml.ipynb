{
 "cells": [
  {
   "cell_type": "code",
   "execution_count": 1,
   "metadata": {},
   "outputs": [],
   "source": [
    "import os\n",
    "from osgeo import gdal"
   ]
  },
  {
   "cell_type": "code",
   "execution_count": 5,
   "metadata": {},
   "outputs": [],
   "source": [
    "import os\n",
    "from osgeo import gdal\n",
    "\n",
    "def convert_raster_to_kmz(input_raster, output_kmz):\n",
    "    # Register all available GDAL drivers\n",
    "    gdal.AllRegister()\n",
    "\n",
    "    # Open the input raster file\n",
    "    raster = gdal.Open(input_raster)\n",
    "    if raster is None:\n",
    "        print(f\"Failed to open file: {input_raster}\")\n",
    "        return\n",
    "\n",
    "    # Ensure the raster has a spatial reference and is georeferenced\n",
    "    if raster.GetProjection() == '':\n",
    "        print(\"The input raster is not georeferenced.\")\n",
    "        return\n",
    "    \n",
    "    # Define the driver for KMZ output\n",
    "    driver = gdal.GetDriverByName('KMLSUPEROVERLAY')\n",
    "    if driver is None:\n",
    "        print(\"KMLSUPEROVERLAY driver not found\")\n",
    "        return\n",
    "\n",
    "    try:\n",
    "        # Create and write to the output KMZ file\n",
    "        driver.CreateCopy(output_kmz, raster)\n",
    "        print(f\"KMZ file converted successfully: {output_kmz}\")\n",
    "    except Exception as e:\n",
    "        print(f\"Error occurred: {e}\")\n",
    "    finally:\n",
    "        # Close the dataset\n",
    "        raster = None\n",
    "\n",
    "\n"
   ]
  },
  {
   "cell_type": "code",
   "execution_count": 6,
   "metadata": {},
   "outputs": [
    {
     "name": "stdout",
     "output_type": "stream",
     "text": [
      "The input raster is not georeferenced.\n"
     ]
    }
   ],
   "source": [
    "\n",
    "\n",
    "# Example usage\n",
    "input_raster = \"Marsville/marsville_merged.tif\"\n",
    "output_kml = \"Marsville/merged.kml\"  # or \"output_file.kmz\" if needed\n",
    "\n",
    "convert_raster_to_kmz(input_raster, output_kmz)\n"
   ]
  },
  {
   "cell_type": "code",
   "execution_count": 10,
   "metadata": {},
   "outputs": [
    {
     "name": "stdout",
     "output_type": "stream",
     "text": [
      "KMZ file converted successfully: Elora/elora_merged.kmz\n"
     ]
    }
   ],
   "source": [
    "import os\n",
    "from osgeo import gdal\n",
    "\n",
    "def convert_raster_to_kmz(input_raster, output_kmz):\n",
    "    # Register all available GDAL drivers\n",
    "    gdal.AllRegister()\n",
    "\n",
    "    # Open the input raster file\n",
    "    raster = gdal.Open(input_raster)\n",
    "    if raster is None:\n",
    "        print(f\"Failed to open file: {input_raster}\")\n",
    "        return\n",
    "\n",
    "    # Ensure the raster has a spatial reference and is georeferenced\n",
    "    if raster.GetProjection() == '':\n",
    "        print(\"The input raster is not georeferenced.\")\n",
    "        return\n",
    "    \n",
    "    # Define the driver for KMZ output\n",
    "    driver = gdal.GetDriverByName('KMLSUPEROVERLAY')\n",
    "    if driver is None:\n",
    "        print(\"KMLSUPEROVERLAY driver not found\")\n",
    "        return\n",
    "\n",
    "    try:\n",
    "        # Create and write to the output KMZ file\n",
    "        driver.CreateCopy(output_kmz, raster)\n",
    "        print(f\"KMZ file converted successfully: {output_kmz}\")\n",
    "    except Exception as e:\n",
    "        print(f\"Error occurred: {e}\")\n",
    "    finally:\n",
    "        # Close the dataset\n",
    "        raster = None\n",
    "\n",
    "# Example usage with your specified file paths\n",
    "input_raster = \"Elora/elora_merged3.tif\"  # Path to the GeoTIFF file\n",
    "output_kmz = \"Elora/elora_merged.kmz\"  # Output KMZ file\n",
    "\n",
    "convert_raster_to_kmz(input_raster, output_kmz)\n"
   ]
  },
  {
   "cell_type": "code",
   "execution_count": null,
   "metadata": {},
   "outputs": [],
   "source": []
  }
 ],
 "metadata": {
  "kernelspec": {
   "display_name": "base",
   "language": "python",
   "name": "python3"
  },
  "language_info": {
   "codemirror_mode": {
    "name": "ipython",
    "version": 3
   },
   "file_extension": ".py",
   "mimetype": "text/x-python",
   "name": "python",
   "nbconvert_exporter": "python",
   "pygments_lexer": "ipython3",
   "version": "3.9.10"
  }
 },
 "nbformat": 4,
 "nbformat_minor": 2
}
