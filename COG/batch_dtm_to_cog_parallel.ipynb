{
 "cells": [
  {
   "cell_type": "code",
   "execution_count": 3,
   "metadata": {},
   "outputs": [
    {
     "name": "stdout",
     "output_type": "stream",
     "text": [
      "Found 218 subfolders to process.\n"
     ]
    },
    {
     "ename": "NameError",
     "evalue": "name 'translate_options' is not defined",
     "output_type": "error",
     "traceback": [
      "\u001b[0;31m---------------------------------------------------------------------------\u001b[0m",
      "\u001b[0;31mNameError\u001b[0m                                 Traceback (most recent call last)",
      "Cell \u001b[0;32mIn[3], line 79\u001b[0m\n\u001b[1;32m     76\u001b[0m test_mode \u001b[38;5;241m=\u001b[39m \u001b[38;5;28;01mFalse\u001b[39;00m  \u001b[38;5;66;03m# Set to True to process a smaller subset for testing\u001b[39;00m\n\u001b[1;32m     77\u001b[0m max_workers \u001b[38;5;241m=\u001b[39m \u001b[38;5;28;01mNone\u001b[39;00m  \u001b[38;5;66;03m# Set to the number of processes (e.g., os.cpu_count())\u001b[39;00m\n\u001b[0;32m---> 79\u001b[0m \u001b[43mcreate_mosaic_from_subfolders\u001b[49m\u001b[43m(\u001b[49m\u001b[43minput_root\u001b[49m\u001b[43m,\u001b[49m\u001b[43m \u001b[49m\u001b[43moutput_root\u001b[49m\u001b[43m,\u001b[49m\u001b[43m \u001b[49m\u001b[43mtest_mode\u001b[49m\u001b[43m,\u001b[49m\u001b[43m \u001b[49m\u001b[43mmax_workers\u001b[49m\u001b[43m)\u001b[49m\n",
      "Cell \u001b[0;32mIn[3], line 61\u001b[0m, in \u001b[0;36mcreate_mosaic_from_subfolders\u001b[0;34m(input_root, output_root, test_mode, max_workers)\u001b[0m\n\u001b[1;32m     58\u001b[0m \u001b[38;5;66;03m# Use ProcessPoolExecutor for parallel processing\u001b[39;00m\n\u001b[1;32m     59\u001b[0m \u001b[38;5;28;01mwith\u001b[39;00m ProcessPoolExecutor(max_workers\u001b[38;5;241m=\u001b[39mmax_workers) \u001b[38;5;28;01mas\u001b[39;00m executor:\n\u001b[1;32m     60\u001b[0m     futures \u001b[38;5;241m=\u001b[39m [\n\u001b[0;32m---> 61\u001b[0m         executor\u001b[38;5;241m.\u001b[39msubmit(process_subfolder, subfolder[\u001b[38;5;241m0\u001b[39m], subfolder[\u001b[38;5;241m1\u001b[39m], \u001b[43mtranslate_options\u001b[49m)\n\u001b[1;32m     62\u001b[0m         \u001b[38;5;28;01mfor\u001b[39;00m subfolder \u001b[38;5;129;01min\u001b[39;00m subfolders_to_process\n\u001b[1;32m     63\u001b[0m     ]\n\u001b[1;32m     64\u001b[0m     \u001b[38;5;28;01mfor\u001b[39;00m future \u001b[38;5;129;01min\u001b[39;00m as_completed(futures):\n\u001b[1;32m     65\u001b[0m         \u001b[38;5;28;01mtry\u001b[39;00m:\n",
      "\u001b[0;31mNameError\u001b[0m: name 'translate_options' is not defined"
     ]
    }
   ],
   "source": [
    "import os\n",
    "import glob\n",
    "from osgeo import gdal\n",
    "from concurrent.futures import ProcessPoolExecutor, as_completed\n",
    "\n",
    "def process_subfolder(input_subfolder, output_subfolder, translate_options=None):\n",
    "    os.makedirs(output_subfolder, exist_ok=True)\n",
    "    output_mosaic_path = os.path.join(output_subfolder, \"final_output_cog.tif\")\n",
    "\n",
    "    # Check if the output mosaic file already exists\n",
    "    if os.path.exists(output_mosaic_path):\n",
    "        print(f\"Output mosaic already exists for {input_subfolder}, skipping...\")\n",
    "        return\n",
    "\n",
    "    input_files = sorted(glob.glob(os.path.join(input_subfolder, \"*.tif\")))\n",
    "\n",
    "    if not input_files:\n",
    "        print(f\"No TIFF files found in {input_subfolder}\")\n",
    "        return\n",
    "\n",
    "    print(f\"Processing subfolder: {input_subfolder}\")\n",
    "\n",
    "    # Build VRT for the subfolder\n",
    "    vrt_path = os.path.join(output_subfolder, \"subfolder.vrt\")\n",
    "    gdal.BuildVRT(vrt_path, input_files)\n",
    "\n",
    "    # Translate VRT to COG\n",
    "    gdal.Translate(output_mosaic_path, vrt_path, options=translate_options)\n",
    "\n",
    "    # Clean up VRT\n",
    "    os.remove(vrt_path)\n",
    "\n",
    "    print(f\"Final mosaic for {input_subfolder} created at: {output_mosaic_path}\")\n",
    "\n",
    "\n",
    "\n",
    "def create_mosaic_from_subfolders(input_root, output_root, test_mode=False, max_workers=None):\n",
    "    # [Existing translate_options definition remains unchanged]\n",
    "    ...\n",
    "\n",
    "    subfolders_to_process = []\n",
    "\n",
    "    # Walk through the input directory structure and collect subfolders with TIFF files\n",
    "    for root, dirs, files in os.walk(input_root):\n",
    "        tiff_files = [f for f in files if f.lower().endswith('.tif')]\n",
    "        if tiff_files:\n",
    "            relative_path = os.path.relpath(root, input_root)\n",
    "            input_subfolder = root\n",
    "            output_subfolder = os.path.join(output_root, relative_path)\n",
    "\n",
    "            if test_mode:\n",
    "                tiff_files = tiff_files[:1000]\n",
    "\n",
    "            subfolders_to_process.append((input_subfolder, output_subfolder))\n",
    "\n",
    "    print(f\"Found {len(subfolders_to_process)} subfolders to process.\")\n",
    "\n",
    "    # Use ProcessPoolExecutor for parallel processing\n",
    "    with ProcessPoolExecutor(max_workers=max_workers) as executor:\n",
    "        futures = [\n",
    "            executor.submit(process_subfolder, subfolder[0], subfolder[1], translate_options)\n",
    "            for subfolder in subfolders_to_process\n",
    "        ]\n",
    "        for future in as_completed(futures):\n",
    "            try:\n",
    "                future.result()\n",
    "            except Exception as e:\n",
    "                print(f\"Error processing a subfolder: {e}\")\n",
    "\n",
    "    print(\"All subfolders processed.\")\n",
    "\n",
    "if __name__ == \"__main__\":\n",
    "    # Replace these paths with your actual paths\n",
    "    input_root = \"/Volumes/Expansion 1/DTM_UNZIP\"\n",
    "    output_root = \"/Volumes/Expansion 1/DTM_COG\"\n",
    "    test_mode = False  # Set to True to process a smaller subset for testing\n",
    "    max_workers = None  # Set to the number of processes (e.g., os.cpu_count())\n",
    "\n",
    "    create_mosaic_from_subfolders(input_root, output_root, test_mode, max_workers)\n"
   ]
  },
  {
   "cell_type": "code",
   "execution_count": null,
   "metadata": {},
   "outputs": [],
   "source": []
  }
 ],
 "metadata": {
  "kernelspec": {
   "display_name": "Python 3",
   "language": "python",
   "name": "python3"
  },
  "language_info": {
   "codemirror_mode": {
    "name": "ipython",
    "version": 3
   },
   "file_extension": ".py",
   "mimetype": "text/x-python",
   "name": "python",
   "nbconvert_exporter": "python",
   "pygments_lexer": "ipython3",
   "version": "3.12.7"
  }
 },
 "nbformat": 4,
 "nbformat_minor": 2
}
