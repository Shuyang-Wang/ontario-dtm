{
 "cells": [
  {
   "cell_type": "code",
   "execution_count": 9,
   "metadata": {},
   "outputs": [
    {
     "name": "stdout",
     "output_type": "stream",
     "text": [
      "Raster Width: 46000\n",
      "Raster Height: 46000\n",
      "Raster CRS: EPSG:26917\n",
      "Raster Bounds: BoundingBox(left=569000.0, bottom=4791000.0, right=592000.0, top=4814000.0)\n"
     ]
    }
   ],
   "source": [
    "import rasterio\n",
    "\n",
    "# URL to the COG file on AWS S3\n",
    "cog_url = 'https://ccemp-bucket.s3.amazonaws.com/Public%20Access/COG/GTA-Halton-LidarDTM-A_cog.tif'\n",
    "\n",
    "# Open the COG and print metadata\n",
    "with rasterio.open(cog_url) as src:\n",
    "    print(\"Raster Width:\", src.width)\n",
    "    print(\"Raster Height:\", src.height)\n",
    "    print(\"Raster CRS:\", src.crs)\n",
    "    print(\"Raster Bounds:\", src.bounds)  # Geographical bounds of the raster\n"
   ]
  },
  {
   "cell_type": "code",
   "execution_count": null,
   "metadata": {},
   "outputs": [],
   "source": []
  },
  {
   "cell_type": "code",
   "execution_count": 20,
   "metadata": {},
   "outputs": [
    {
     "name": "stdout",
     "output_type": "stream",
     "text": [
      "Bounding box (5x5 meters) around the center: x1=583000.0, y1=4800000.0, x2=588000.0, y2=4805000.0\n",
      "Subset saved as /Users/shuyang/Downloads/center_5x5_rgb_highest_res.tif\n"
     ]
    }
   ],
   "source": [
    "import os\n",
    "import sys\n",
    "import json\n",
    "import rasterio\n",
    "from rasterio.windows import from_bounds\n",
    "from rasterio.enums import Resampling\n",
    "\n",
    "# URL to the COG file on AWS S3\n",
    "cog_url = 'https://ccemp-bucket.s3.amazonaws.com/Public%20Access/COG/GTA-Halton-LidarDTM-A_cog.tif'\n",
    "\n",
    "# Determine the default download folder based on the operating system\n",
    "if sys.platform == \"darwin\":  # macOS\n",
    "    download_folder = os.path.join(os.path.expanduser(\"~\"), \"Downloads\")\n",
    "elif sys.platform == \"win32\":  # Windows\n",
    "    download_folder = os.path.join(os.path.expanduser(\"~\"), \"Downloads\")\n",
    "else:\n",
    "    raise OSError(\"Unsupported operating system\")\n",
    "\n",
    "# Open the COG file and get its metadata\n",
    "with rasterio.open(cog_url) as src:\n",
    "    bounds = src.bounds\n",
    "    transform = src.transform\n",
    "    \n",
    "    # Calculate the center of the raster and define a 5x5 meter block around it\n",
    "    center_x, center_y = (bounds.left + bounds.right) / 2, (bounds.bottom + bounds.top) / 2\n",
    "    block_size = 5000  # In meters\n",
    "    x1, y1, x2, y2 = center_x - block_size / 2, center_y - block_size / 2, center_x + block_size / 2, center_y + block_size / 2\n",
    "\n",
    "    x1 = x1 + 5000\n",
    "    x2 = x2 + 5000\n",
    "\n",
    "    # Print the calculated bounding box for the center zone\n",
    "    print(f\"Bounding box (5x5 meters) around the center: x1={x1}, y1={y1}, x2={x2}, y2={y2}\")\n",
    "\n",
    "    # Convert the geographic bounding box to a pixel window\n",
    "    window = from_bounds(x1, y1, x2, y2, transform)\n",
    "    \n",
    "    # Adjust the metadata to match the window size\n",
    "    meta = src.meta.copy()\n",
    "    meta.update({\n",
    "        \"driver\": \"GTiff\",\n",
    "        \"height\": window.height,\n",
    "        \"width\": window.width,\n",
    "        \"transform\": src.window_transform(window),\n",
    "        \"count\": 3,  # RGB has 3 bands\n",
    "        \"dtype\": src.dtypes[0]  # Use the original data type to preserve quality\n",
    "    })\n",
    "\n",
    "    # Output file path (where the subset will be saved)\n",
    "    output_file = os.path.join(download_folder, \"center_5x5_rgb_highest_res.tif\")\n",
    "    \n",
    "    # Write the window to a new GeoTIFF file\n",
    "    with rasterio.open(output_file, 'w', **meta) as dst:\n",
    "        for i in range(1, 4):  # RGB has 3 bands\n",
    "            dst.write(src.read(i, window=window, resampling=Resampling.nearest), i)\n",
    "\n",
    "print(f\"Subset saved as {output_file}\")"
   ]
  },
  {
   "cell_type": "code",
   "execution_count": null,
   "metadata": {},
   "outputs": [],
   "source": []
  }
 ],
 "metadata": {
  "kernelspec": {
   "display_name": "base",
   "language": "python",
   "name": "python3"
  },
  "language_info": {
   "codemirror_mode": {
    "name": "ipython",
    "version": 3
   },
   "file_extension": ".py",
   "mimetype": "text/x-python",
   "name": "python",
   "nbconvert_exporter": "python",
   "pygments_lexer": "ipython3",
   "version": "3.12.2"
  }
 },
 "nbformat": 4,
 "nbformat_minor": 2
}
