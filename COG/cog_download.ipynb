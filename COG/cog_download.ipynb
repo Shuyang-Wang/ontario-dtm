{
 "cells": [
  {
   "cell_type": "code",
   "execution_count": 4,
   "metadata": {},
   "outputs": [
    {
     "name": "stdout",
     "output_type": "stream",
     "text": [
      "Raster Width: 26000\n",
      "Raster Height: 56000\n",
      "Raster CRS: PROJCS[\"NAD83 / UTM zone 17N\",GEOGCS[\"NAD83\",DATUM[\"North American Datum 1983\",SPHEROID[\"GRS 1980\",6378137,298.257222101004]],PRIMEM[\"Greenwich\",0],UNIT[\"degree\",0.0174532925199433,AUTHORITY[\"EPSG\",\"9122\"]]],PROJECTION[\"Transverse_Mercator\"],PARAMETER[\"latitude_of_origin\",0],PARAMETER[\"central_meridian\",-81],PARAMETER[\"scale_factor\",0.9996],PARAMETER[\"false_easting\",500000],PARAMETER[\"false_northing\",0],UNIT[\"metre\",1,AUTHORITY[\"EPSG\",\"9001\"]],AXIS[\"Easting\",EAST],AXIS[\"Northing\",NORTH]]\n",
      "Raster Bounds: BoundingBox(left=484000.0, bottom=5165000.0, right=497000.0, top=5193000.0)\n"
     ]
    }
   ],
   "source": [
    "import rasterio\n",
    "\n",
    "# URL to the COG file on AWS S3\n",
    "cog_url = 'https://ccemp-bucket.s3.amazonaws.com/Public%20Access/COG/Sudbury-DTM-11_COG_V3.tif'\n",
    "\n",
    "# Open the COG and print metadata\n",
    "with rasterio.open(cog_url) as src:\n",
    "    print(\"Raster Width:\", src.width)\n",
    "    print(\"Raster Height:\", src.height)\n",
    "    print(\"Raster CRS:\", src.crs)\n",
    "    print(\"Raster Bounds:\", src.bounds)  # Geographical bounds of the raster\n"
   ]
  },
  {
   "cell_type": "code",
   "execution_count": null,
   "metadata": {},
   "outputs": [],
   "source": []
  },
  {
   "cell_type": "markdown",
   "metadata": {},
   "source": [
    "## DTM"
   ]
  },
  {
   "cell_type": "code",
   "execution_count": 5,
   "metadata": {},
   "outputs": [
    {
     "name": "stdout",
     "output_type": "stream",
     "text": [
      "Opening COG file...\n",
      "Calculating window...\n",
      "Reading data...\n",
      "Preparing metadata...\n",
      "Writing output file...\n",
      "DEM subset saved as /Users/b/Downloads/center_4x4_dem_sudbury.tif\n"
     ]
    }
   ],
   "source": [
    "import os\n",
    "import rasterio\n",
    "from rasterio.windows import Window\n",
    "\n",
    "# URL to the COG file on AWS S3\n",
    "cog_url = 'https://ccemp-bucket.s3.amazonaws.com/Public%20Access/COG/Sudbury-DTM-11_COG_V3.tif'\n",
    "\n",
    "# Determine the default download folder\n",
    "download_folder = os.path.join(os.path.expanduser(\"~\"), \"Downloads\")\n",
    "\n",
    "print(\"Opening COG file...\")\n",
    "with rasterio.open(cog_url) as src:\n",
    "    bounds = src.bounds\n",
    "    \n",
    "    print(\"Calculating window...\")\n",
    "    center_x, center_y = (bounds.left + bounds.right) / 2, (bounds.bottom + bounds.top) / 2\n",
    "    block_size = 2000  # In meters\n",
    "    window = src.window(center_x - block_size/2, center_y - block_size/2, \n",
    "                        center_x + block_size/2, center_y + block_size/2)\n",
    "    \n",
    "    print(\"Reading data...\")\n",
    "    data = src.read(1, window=window)\n",
    "\n",
    "    print(\"Preparing metadata...\")\n",
    "    meta = src.meta.copy()\n",
    "    meta.update({\n",
    "        \"height\": window.height,\n",
    "        \"width\": window.width,\n",
    "        \"transform\": src.window_transform(window),\n",
    "        \"compress\": \"lzw\",\n",
    "        \"predictor\": 2,\n",
    "        \"tiled\": True,\n",
    "        \"blockxsize\": 256,\n",
    "        \"blockysize\": 256\n",
    "    })\n",
    "\n",
    "    output_file = os.path.join(download_folder, \"center_4x4_dem_sudbury.tif\")\n",
    "    \n",
    "    print(\"Writing output file...\")\n",
    "    with rasterio.open(output_file, 'w', **meta) as dst:\n",
    "        dst.write(data, 1)\n",
    "\n",
    "print(f\"DEM subset saved as {output_file}\")"
   ]
  },
  {
   "cell_type": "markdown",
   "metadata": {},
   "source": []
  },
  {
   "cell_type": "code",
   "execution_count": null,
   "metadata": {},
   "outputs": [],
   "source": []
  },
  {
   "cell_type": "code",
   "execution_count": null,
   "metadata": {},
   "outputs": [],
   "source": []
  },
  {
   "cell_type": "code",
   "execution_count": null,
   "metadata": {},
   "outputs": [],
   "source": []
  },
  {
   "cell_type": "code",
   "execution_count": null,
   "metadata": {},
   "outputs": [],
   "source": []
  },
  {
   "cell_type": "markdown",
   "metadata": {},
   "source": [
    "## Hillshade (RGB )"
   ]
  },
  {
   "cell_type": "code",
   "execution_count": null,
   "metadata": {},
   "outputs": [],
   "source": []
  },
  {
   "cell_type": "code",
   "execution_count": 2,
   "metadata": {},
   "outputs": [
    {
     "name": "stdout",
     "output_type": "stream",
     "text": [
      "Bounding box (5x5 meters) around the center: x1=488000.0, y1=5176500.0, x2=493000.0, y2=5181500.0\n"
     ]
    },
    {
     "ename": "IndexError",
     "evalue": "band index 2 out of range (not in (1,))",
     "output_type": "error",
     "traceback": [
      "\u001b[0;31m---------------------------------------------------------------------------\u001b[0m",
      "\u001b[0;31mIndexError\u001b[0m                                Traceback (most recent call last)",
      "Cell \u001b[0;32mIn[2], line 53\u001b[0m\n\u001b[1;32m     51\u001b[0m     \u001b[38;5;28;01mwith\u001b[39;00m rasterio\u001b[38;5;241m.\u001b[39mopen(output_file, \u001b[38;5;124m'\u001b[39m\u001b[38;5;124mw\u001b[39m\u001b[38;5;124m'\u001b[39m, \u001b[38;5;241m*\u001b[39m\u001b[38;5;241m*\u001b[39mmeta) \u001b[38;5;28;01mas\u001b[39;00m dst:\n\u001b[1;32m     52\u001b[0m         \u001b[38;5;28;01mfor\u001b[39;00m i \u001b[38;5;129;01min\u001b[39;00m \u001b[38;5;28mrange\u001b[39m(\u001b[38;5;241m1\u001b[39m, \u001b[38;5;241m4\u001b[39m):  \u001b[38;5;66;03m# RGB has 3 bands\u001b[39;00m\n\u001b[0;32m---> 53\u001b[0m             dst\u001b[38;5;241m.\u001b[39mwrite(\u001b[43msrc\u001b[49m\u001b[38;5;241;43m.\u001b[39;49m\u001b[43mread\u001b[49m\u001b[43m(\u001b[49m\u001b[43mi\u001b[49m\u001b[43m,\u001b[49m\u001b[43m \u001b[49m\u001b[43mwindow\u001b[49m\u001b[38;5;241;43m=\u001b[39;49m\u001b[43mwindow\u001b[49m\u001b[43m,\u001b[49m\u001b[43m \u001b[49m\u001b[43mresampling\u001b[49m\u001b[38;5;241;43m=\u001b[39;49m\u001b[43mResampling\u001b[49m\u001b[38;5;241;43m.\u001b[39;49m\u001b[43mnearest\u001b[49m\u001b[43m)\u001b[49m, i)\n\u001b[1;32m     55\u001b[0m \u001b[38;5;28mprint\u001b[39m(\u001b[38;5;124mf\u001b[39m\u001b[38;5;124m\"\u001b[39m\u001b[38;5;124mSubset saved as \u001b[39m\u001b[38;5;132;01m{\u001b[39;00moutput_file\u001b[38;5;132;01m}\u001b[39;00m\u001b[38;5;124m\"\u001b[39m)\n",
      "File \u001b[0;32mrasterio/_io.pyx:535\u001b[0m, in \u001b[0;36mrasterio._io.DatasetReaderBase.read\u001b[0;34m()\u001b[0m\n",
      "\u001b[0;31mIndexError\u001b[0m: band index 2 out of range (not in (1,))"
     ]
    }
   ],
   "source": [
    "import os\n",
    "import sys\n",
    "import json\n",
    "import rasterio\n",
    "from rasterio.windows import from_bounds\n",
    "from rasterio.enums import Resampling\n",
    "\n",
    "# URL to the COG file on AWS S3\n",
    "cog_url = 'https://ccemp-bucket.s3.amazonaws.com/Public%20Access/COG/Sudbury-DTM-11_COG_V2.tif'\n",
    "\n",
    "# Determine the default download folder based on the operating system\n",
    "if sys.platform == \"darwin\":  # macOS\n",
    "    download_folder = os.path.join(os.path.expanduser(\"~\"), \"Downloads\")\n",
    "elif sys.platform == \"win32\":  # Windows\n",
    "    download_folder = os.path.join(os.path.expanduser(\"~\"), \"Downloads\")\n",
    "else:\n",
    "    raise OSError(\"Unsupported operating system\")\n",
    "\n",
    "# Open the COG file and get its metadata\n",
    "with rasterio.open(cog_url) as src:\n",
    "    bounds = src.bounds\n",
    "    transform = src.transform\n",
    "    \n",
    "    # Calculate the center of the raster and define a 5x5 meter block around it\n",
    "    center_x, center_y = (bounds.left + bounds.right) / 2, (bounds.bottom + bounds.top) / 2\n",
    "    block_size = 5000  # In meters\n",
    "    x1, y1, x2, y2 = center_x - block_size / 2, center_y - block_size / 2, center_x + block_size / 2, center_y + block_size / 2\n",
    "\n",
    "\n",
    "    # Convert the geographic bounding box to a pixel window\n",
    "    window = from_bounds(x1, y1, x2, y2, transform)\n",
    "    \n",
    "    # Adjust the metadata to match the window size and add compression\n",
    "    meta = src.meta.copy()\n",
    "    meta.update({\n",
    "        \"driver\": \"GTiff\",\n",
    "        \"height\": window.height,\n",
    "        \"width\": window.width,\n",
    "        \"transform\": src.window_transform(window),\n",
    "        \"count\": 3,  # RGB has 3 bands\n",
    "        \"dtype\": src.dtypes[0],  # Use the original data type to preserve quality\n",
    "        \"compress\": \"jpeg\"  # Apply LZW compression\n",
    "    })\n",
    "\n",
    "    # Output file path (where the subset will be saved)\n",
    "    output_file = os.path.join(download_folder, \"center_5x5_rgb_highest_res.tif\")\n",
    "    \n",
    "    # Write the window to a new GeoTIFF file\n",
    "    with rasterio.open(output_file, 'w', **meta) as dst:\n",
    "        for i in range(1, 4):  # RGB has 3 bands\n",
    "            dst.write(src.read(i, window=window, resampling=Resampling.nearest), i)\n",
    "\n",
    "print(f\"Subset saved as {output_file}\")"
   ]
  },
  {
   "cell_type": "code",
   "execution_count": null,
   "metadata": {},
   "outputs": [],
   "source": []
  }
 ],
 "metadata": {
  "kernelspec": {
   "display_name": "base",
   "language": "python",
   "name": "python3"
  },
  "language_info": {
   "codemirror_mode": {
    "name": "ipython",
    "version": 3
   },
   "file_extension": ".py",
   "mimetype": "text/x-python",
   "name": "python",
   "nbconvert_exporter": "python",
   "pygments_lexer": "ipython3",
   "version": "3.12.2"
  }
 },
 "nbformat": 4,
 "nbformat_minor": 2
}
