{
 "cells": [
  {
   "cell_type": "code",
   "execution_count": 4,
   "metadata": {},
   "outputs": [],
   "source": [
    "import os\n",
    "import glob\n",
    "from osgeo import gdal"
   ]
  },
  {
   "cell_type": "code",
   "execution_count": 5,
   "metadata": {},
   "outputs": [],
   "source": [
    "def create_vrt_and_convert_to_cog(input_folder, output_folder):\n",
    "    os.makedirs(output_folder, exist_ok=True)\n",
    "    vrt_path = os.path.join(output_folder, \"merged.vrt\")\n",
    "    output_cog_path = os.path.join(output_folder, \"final_output_cog.tif\")\n",
    "    input_files = glob.glob(os.path.join(input_folder, \"**\", \"*.tif\"), recursive=True)\n",
    "\n",
    "    vrt = gdal.BuildVRT(vrt_path, input_files, options=gdal.BuildVRTOptions(resampleAlg='nearest', addAlpha=False))\n",
    "    vrt = None\n",
    "\n",
    "    gdal.SetConfigOption('GDAL_CACHEMAX', '1024')\n",
    "    gdal.SetConfigOption('GDAL_NUM_THREADS', 'ALL_CPUS')\n",
    "    \n",
    "    translate_options = gdal.TranslateOptions(\n",
    "        format='COG',\n",
    "        creationOptions=[\n",
    "            \"COMPRESS=LZW\", \"PREDICTOR=2\", \"BIGTIFF=YES\", \"TILED=YES\",\n",
    "            \"BLOCKSIZE=512\", \"OVERVIEW_RESAMPLING=AVERAGE\", \"NUM_THREADS=ALL_CPUS\"\n",
    "        ]\n",
    "    )\n",
    "    \n",
    "    gdal.Translate(output_cog_path, vrt_path, options=translate_options)\n",
    "    os.remove(vrt_path)"
   ]
  },
  {
   "cell_type": "code",
   "execution_count": 3,
   "metadata": {},
   "outputs": [
    {
     "name": "stderr",
     "output_type": "stream",
     "text": [
      "Warning 6: driver COG does not support creation option TILED\n"
     ]
    }
   ],
   "source": [
    "# Example usage\n",
    "input_folder = '/Users/shuyang/Data/DTM/Sudbury/Sudbury-DTM-11/DTM'\n",
    "output_folder = '//Users/shuyang/Data/DTM/Sudbury/Sudbury-DTM-11'\n",
    "create_vrt_and_convert_to_cog(input_folder, output_folder)"
   ]
  },
  {
   "cell_type": "code",
   "execution_count": null,
   "metadata": {},
   "outputs": [],
   "source": []
  },
  {
   "cell_type": "code",
   "execution_count": null,
   "metadata": {},
   "outputs": [],
   "source": []
  },
  {
   "cell_type": "code",
   "execution_count": null,
   "metadata": {},
   "outputs": [],
   "source": []
  },
  {
   "cell_type": "code",
   "execution_count": null,
   "metadata": {},
   "outputs": [],
   "source": [
    "def upload_to_aws(local_file, bucket, s3_folder):\n",
    "    s3 = boto3.client('s3')\n",
    "    \n",
    "    try:\n",
    "        file_name = os.path.basename(local_file)\n",
    "        s3_file = os.path.join(s3_folder, file_name)\n",
    "        \n",
    "        print(f\"Uploading {file_name} to AWS S3...\")\n",
    "        s3.upload_file(local_file, bucket, s3_file)\n",
    "        print(f\"Upload Successful. File available at: https://{bucket}.s3.amazonaws.com/{s3_file}\")\n",
    "        return True\n",
    "    except FileNotFoundError:\n",
    "        print(\"The file was not found\")\n",
    "        return False\n",
    "    except NoCredentialsError:\n",
    "        print(\"Credentials not available\")\n",
    "        return False"
   ]
  },
  {
   "cell_type": "code",
   "execution_count": null,
   "metadata": {},
   "outputs": [],
   "source": [
    "# Upload to S3\n",
    "if cog_file:\n",
    "    upload_to_aws(cog_file, 'ccemp-bucket', 'Public Access/COG/')\n",
    "else:\n",
    "    print(\"COG creation failed, no upload attempted.\")"
   ]
  }
 ],
 "metadata": {
  "kernelspec": {
   "display_name": "base",
   "language": "python",
   "name": "python3"
  },
  "language_info": {
   "codemirror_mode": {
    "name": "ipython",
    "version": 3
   },
   "file_extension": ".py",
   "mimetype": "text/x-python",
   "name": "python",
   "nbconvert_exporter": "python",
   "pygments_lexer": "ipython3",
   "version": "3.12.2"
  }
 },
 "nbformat": 4,
 "nbformat_minor": 2
}
