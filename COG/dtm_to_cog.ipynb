{
 "cells": [
  {
   "cell_type": "code",
   "execution_count": 3,
   "metadata": {},
   "outputs": [],
   "source": [
    "import os\n",
    "import glob\n",
    "from osgeo import gdal"
   ]
  },
  {
   "cell_type": "code",
   "execution_count": 8,
   "metadata": {},
   "outputs": [],
   "source": [
    "def create_vrt_and_convert_to_cog(input_folder, output_folder):\n",
    "    os.makedirs(output_folder, exist_ok=True)\n",
    "    vrt_path = os.path.join(output_folder, \"merged.vrt\")\n",
    "    output_cog_path = os.path.join(output_folder, \"final_output_cog.tif\")\n",
    "    input_files = glob.glob(os.path.join(input_folder, \"**\", \"*.tif\"), recursive=True)\n",
    "\n",
    "    vrt = gdal.BuildVRT(vrt_path, input_files, options=gdal.BuildVRTOptions(resampleAlg='nearest', addAlpha=False))\n",
    "    \n",
    "    # Get the CRS from the VRT\n",
    "    src_crs = vrt.GetProjection()\n",
    "    vrt = None\n",
    "\n",
    "    gdal.SetConfigOption('GDAL_CACHEMAX', '1024')\n",
    "    gdal.SetConfigOption('GDAL_NUM_THREADS', 'ALL_CPUS')\n",
    "    \n",
    "    translate_options = gdal.TranslateOptions(\n",
    "        format='COG',\n",
    "        creationOptions=[\n",
    "            \"COMPRESS=LZW\", \"PREDICTOR=2\", \"BIGTIFF=YES\",\n",
    "            \"BLOCKSIZE=512\", \"OVERVIEW_RESAMPLING=AVERAGE\", \"NUM_THREADS=ALL_CPUS\"\n",
    "        ],\n",
    "        outputSRS=src_crs  # Set the output SRS to match the source\n",
    "    )\n",
    "    \n",
    "    gdal.Translate(output_cog_path, vrt_path, options=translate_options)\n",
    "    os.remove(vrt_path)\n",
    "\n",
    "    # Verify the CRS of the output COG\n",
    "    output_ds = gdal.Open(output_cog_path)\n",
    "    output_crs = output_ds.GetProjection()\n",
    "    output_ds = None\n",
    "\n",
    "    if src_crs == output_crs:\n",
    "        print(\"CRS preserved successfully.\")\n",
    "    else:\n",
    "        print(\"Warning: CRS may not have been preserved.\")\n",
    "\n",
    "    return output_cog_path"
   ]
  },
  {
   "cell_type": "code",
   "execution_count": 9,
   "metadata": {},
   "outputs": [
    {
     "name": "stdout",
     "output_type": "stream",
     "text": [
      "Warning: CRS may not have been preserved.\n"
     ]
    },
    {
     "data": {
      "text/plain": [
       "'//Users/shuyang/Data/DTM/Sudbury/Sudbury-DTM-11/final_output_cog.tif'"
      ]
     },
     "execution_count": 9,
     "metadata": {},
     "output_type": "execute_result"
    }
   ],
   "source": [
    "# Example usage\n",
    "input_folder = '/Users/shuyang/Data/DTM/Sudbury/Sudbury-DTM-11/DTM'\n",
    "output_folder = '//Users/shuyang/Data/DTM/Sudbury/Sudbury-DTM-11'\n",
    "create_vrt_and_convert_to_cog(input_folder, output_folder)"
   ]
  },
  {
   "cell_type": "code",
   "execution_count": null,
   "metadata": {},
   "outputs": [],
   "source": []
  },
  {
   "cell_type": "code",
   "execution_count": 10,
   "metadata": {},
   "outputs": [],
   "source": [
    "def create_vrt_and_convert_to_cog(input_folder, output_folder):\n",
    "    os.makedirs(output_folder, exist_ok=True)\n",
    "    intermediate_file = os.path.join(output_folder, \"merged.tif\")\n",
    "    output_cog_path = os.path.join(output_folder, \"final_output_cog.tif\")\n",
    "    input_files = glob.glob(os.path.join(input_folder, \"**\", \"*.tif\"), recursive=True)\n",
    "\n",
    "    # Use gdal.Warp to merge and set the CRS\n",
    "    print(\"Merging input files...\")\n",
    "    gdal.Warp(intermediate_file, input_files, options=gdal.WarpOptions(dstSRS='EPSG:26917'))\n",
    "\n",
    "    # Open the intermediate file to get the CRS\n",
    "    intermediate_ds = gdal.Open(intermediate_file)\n",
    "    if intermediate_ds is None:\n",
    "        print(\"Error: Could not open intermediate file.\")\n",
    "        return None\n",
    "\n",
    "    src_crs = intermediate_ds.GetProjection()\n",
    "    if not src_crs:\n",
    "        print(\"Error: Could not get CRS from intermediate file.\")\n",
    "        return None\n",
    "\n",
    "    print(f\"Source CRS: {src_crs}\")\n",
    "\n",
    "    gdal.SetConfigOption('GDAL_CACHEMAX', '1024')\n",
    "    gdal.SetConfigOption('GDAL_NUM_THREADS', 'ALL_CPUS')\n",
    "    \n",
    "    translate_options = gdal.TranslateOptions(\n",
    "        format='COG',\n",
    "        creationOptions=[\n",
    "            \"COMPRESS=LZW\", \"PREDICTOR=2\", \"BIGTIFF=YES\",\n",
    "            \"BLOCKSIZE=512\", \"OVERVIEW_RESAMPLING=AVERAGE\", \"NUM_THREADS=ALL_CPUS\"\n",
    "        ],\n",
    "        outputSRS=src_crs\n",
    "    )\n",
    "    \n",
    "    print(\"Converting to COG...\")\n",
    "    gdal.Translate(output_cog_path, intermediate_file, options=translate_options)\n",
    "    os.remove(intermediate_file)\n",
    "\n",
    "    # Verify the CRS of the output COG\n",
    "    output_ds = gdal.Open(output_cog_path)\n",
    "    if output_ds is None:\n",
    "        print(\"Error: Could not open output COG file.\")\n",
    "        return None\n",
    "\n",
    "    output_crs = output_ds.GetProjection()\n",
    "    output_ds = None\n",
    "\n",
    "    if src_crs == output_crs:\n",
    "        print(\"CRS preserved successfully.\")\n",
    "    else:\n",
    "        print(\"Warning: CRS may not have been preserved.\")\n",
    "        print(f\"Source CRS: {src_crs}\")\n",
    "        print(f\"Output CRS: {output_crs}\")\n",
    "\n",
    "    return output_cog_path"
   ]
  },
  {
   "cell_type": "code",
   "execution_count": null,
   "metadata": {},
   "outputs": [],
   "source": []
  },
  {
   "cell_type": "code",
   "execution_count": 7,
   "metadata": {},
   "outputs": [
    {
     "name": "stdout",
     "output_type": "stream",
     "text": [
      "Merging input files...\n",
      "Source CRS: PROJCS[\"NAD83 / UTM zone 17N\",GEOGCS[\"NAD83\",DATUM[\"North_American_Datum_1983\",SPHEROID[\"GRS 1980\",6378137,298.257222101,AUTHORITY[\"EPSG\",\"7019\"]],AUTHORITY[\"EPSG\",\"6269\"]],PRIMEM[\"Greenwich\",0,AUTHORITY[\"EPSG\",\"8901\"]],UNIT[\"degree\",0.0174532925199433,AUTHORITY[\"EPSG\",\"9122\"]],AUTHORITY[\"EPSG\",\"4269\"]],PROJECTION[\"Transverse_Mercator\"],PARAMETER[\"latitude_of_origin\",0],PARAMETER[\"central_meridian\",-81],PARAMETER[\"scale_factor\",0.9996],PARAMETER[\"false_easting\",500000],PARAMETER[\"false_northing\",0],UNIT[\"metre\",1,AUTHORITY[\"EPSG\",\"9001\"]],AXIS[\"Easting\",EAST],AXIS[\"Northing\",NORTH],AUTHORITY[\"EPSG\",\"26917\"]]\n",
      "Converting to COG...\n",
      "CRS preserved successfully.\n"
     ]
    },
    {
     "data": {
      "text/plain": [
       "'//Users/shuyang/Data/DTM/Sudbury/Sudbury-DTM-11/final_output_cog.tif'"
      ]
     },
     "execution_count": 7,
     "metadata": {},
     "output_type": "execute_result"
    }
   ],
   "source": [
    "# Example usage\n",
    "input_folder = '/Users/shuyang/Data/DTM/Sudbury/Sudbury-DTM-11/DTM'\n",
    "output_folder = '//Users/shuyang/Data/DTM/Sudbury/Sudbury-DTM-11'\n",
    "create_vrt_and_convert_to_cog(input_folder, output_folder)"
   ]
  },
  {
   "cell_type": "code",
   "execution_count": null,
   "metadata": {},
   "outputs": [],
   "source": []
  },
  {
   "cell_type": "code",
   "execution_count": null,
   "metadata": {},
   "outputs": [],
   "source": []
  },
  {
   "cell_type": "code",
   "execution_count": null,
   "metadata": {},
   "outputs": [],
   "source": []
  },
  {
   "cell_type": "code",
   "execution_count": null,
   "metadata": {},
   "outputs": [],
   "source": [
    "def upload_to_aws(local_file, bucket, s3_folder):\n",
    "    s3 = boto3.client('s3')\n",
    "    \n",
    "    try:\n",
    "        file_name = os.path.basename(local_file)\n",
    "        s3_file = os.path.join(s3_folder, file_name)\n",
    "        \n",
    "        print(f\"Uploading {file_name} to AWS S3...\")\n",
    "        s3.upload_file(local_file, bucket, s3_file)\n",
    "        print(f\"Upload Successful. File available at: https://{bucket}.s3.amazonaws.com/{s3_file}\")\n",
    "        return True\n",
    "    except FileNotFoundError:\n",
    "        print(\"The file was not found\")\n",
    "        return False\n",
    "    except NoCredentialsError:\n",
    "        print(\"Credentials not available\")\n",
    "        return False"
   ]
  },
  {
   "cell_type": "code",
   "execution_count": null,
   "metadata": {},
   "outputs": [],
   "source": [
    "# Upload to S3\n",
    "if cog_file:\n",
    "    upload_to_aws(cog_file, 'ccemp-bucket', 'Public Access/COG/')\n",
    "else:\n",
    "    print(\"COG creation failed, no upload attempted.\")"
   ]
  }
 ],
 "metadata": {
  "kernelspec": {
   "display_name": "base",
   "language": "python",
   "name": "python3"
  },
  "language_info": {
   "codemirror_mode": {
    "name": "ipython",
    "version": 3
   },
   "file_extension": ".py",
   "mimetype": "text/x-python",
   "name": "python",
   "nbconvert_exporter": "python",
   "pygments_lexer": "ipython3",
   "version": "3.12.2"
  }
 },
 "nbformat": 4,
 "nbformat_minor": 2
}
