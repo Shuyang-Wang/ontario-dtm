{
 "cells": [
  {
   "cell_type": "code",
   "execution_count": 5,
   "metadata": {},
   "outputs": [],
   "source": [
    "import os\n",
    "import glob\n",
    "from osgeo import gdal\n",
    "import rasterio"
   ]
  },
  {
   "cell_type": "code",
   "execution_count": 10,
   "metadata": {},
   "outputs": [],
   "source": [
    "def create_vrt_and_convert_to_cog_2(input_folder, output_folder, test_mode=False):\n",
    "    os.makedirs(output_folder, exist_ok=True)\n",
    "    intermediate_file = os.path.join(output_folder, \"merged.tif\")\n",
    "    output_cog_path = os.path.join(output_folder, \"final_output_cog.tif\")\n",
    "    input_files = glob.glob(os.path.join(input_folder, \"**\", \"*.tif\"), recursive=True)\n",
    "\n",
    "    if test_mode:\n",
    "        input_files = input_files[:10]  # Process only the first 10 files in test mode\n",
    "\n",
    "    # Get the CRS from the first input file\n",
    "    with rasterio.open(input_files[0]) as src:\n",
    "        src_crs = src.crs\n",
    "\n",
    "    print(\"Merging input files...\")\n",
    "    gdal.Warp(intermediate_file, input_files, options=gdal.WarpOptions(srcSRS=src_crs, dstSRS=src_crs))\n",
    "\n",
    "    intermediate_ds = gdal.Open(intermediate_file)\n",
    "    if intermediate_ds is None:\n",
    "        print(\"Error: Could not open intermediate file.\")\n",
    "        return None\n",
    "\n",
    "    print(f\"Source CRS: {src_crs}\")\n",
    "\n",
    "    gdal.SetConfigOption('GDAL_CACHEMAX', '1024')\n",
    "    gdal.SetConfigOption('GDAL_NUM_THREADS', 'ALL_CPUS')\n",
    "    \n",
    "    translate_options = gdal.TranslateOptions(\n",
    "        format='COG',\n",
    "        creationOptions=[\n",
    "            \"COMPRESS=LZW\", \"PREDICTOR=2\", \"BIGTIFF=YES\",\n",
    "            \"BLOCKSIZE=512\", \"OVERVIEW_RESAMPLING=AVERAGE\", \"NUM_THREADS=ALL_CPUS\"\n",
    "        ],\n",
    "        outputSRS=src_crs\n",
    "    )\n",
    "    \n",
    "    print(\"Converting to COG...\")\n",
    "    gdal.Translate(output_cog_path, intermediate_file, options=translate_options)\n",
    "    os.remove(intermediate_file)\n",
    "\n",
    "    output_ds = gdal.Open(output_cog_path)\n",
    "    if output_ds is None:\n",
    "        print(\"Error: Could not open output COG file.\")\n",
    "        return None\n",
    "\n",
    "    output_crs = output_ds.GetProjection()\n",
    "    output_ds = None\n",
    "\n",
    "    if src_crs.to_string() == output_crs:\n",
    "        print(\"CRS preserved successfully.\")\n",
    "    else:\n",
    "        print(\"Warning: CRS may not have been preserved.\")\n",
    "        print(f\"Source CRS: {src_crs}\")\n",
    "        print(f\"Output CRS: {output_crs}\")\n",
    "\n",
    "    return output_cog_path"
   ]
  },
  {
   "cell_type": "code",
   "execution_count": null,
   "metadata": {},
   "outputs": [],
   "source": []
  },
  {
   "cell_type": "code",
   "execution_count": 11,
   "metadata": {},
   "outputs": [
    {
     "name": "stdout",
     "output_type": "stream",
     "text": [
      "Merging input files...\n",
      "Source CRS: EPSG:2958\n",
      "Converting to COG...\n",
      "Warning: CRS may not have been preserved.\n",
      "Source CRS: EPSG:2958\n",
      "Output CRS: PROJCS[\"NAD83(CSRS) / UTM zone 17N\",GEOGCS[\"NAD83(CSRS)\",DATUM[\"NAD83_Canadian_Spatial_Reference_System\",SPHEROID[\"GRS 1980\",6378137,298.257222101,AUTHORITY[\"EPSG\",\"7019\"]],AUTHORITY[\"EPSG\",\"6140\"]],PRIMEM[\"Greenwich\",0,AUTHORITY[\"EPSG\",\"8901\"]],UNIT[\"degree\",0.0174532925199433,AUTHORITY[\"EPSG\",\"9122\"]],AUTHORITY[\"EPSG\",\"4617\"]],PROJECTION[\"Transverse_Mercator\"],PARAMETER[\"latitude_of_origin\",0],PARAMETER[\"central_meridian\",-81],PARAMETER[\"scale_factor\",0.9996],PARAMETER[\"false_easting\",500000],PARAMETER[\"false_northing\",0],UNIT[\"metre\",1,AUTHORITY[\"EPSG\",\"9001\"]],AXIS[\"Easting\",EAST],AXIS[\"Northing\",NORTH],AUTHORITY[\"EPSG\",\"2958\"]]\n"
     ]
    },
    {
     "data": {
      "text/plain": [
       "'//Users/shuyang/Data/DTM/Sudbury/Sudbury-DTM-11/final_output_cog.tif'"
      ]
     },
     "execution_count": 11,
     "metadata": {},
     "output_type": "execute_result"
    }
   ],
   "source": [
    "# Example usage\n",
    "input_folder = '/Users/shuyang/Data/DTM/Sudbury/Sudbury-DTM-11/DTM'\n",
    "output_folder = '//Users/shuyang/Data/DTM/Sudbury/Sudbury-DTM-11'\n",
    "create_vrt_and_convert_to_cog_2(input_folder, output_folder,False)"
   ]
  },
  {
   "cell_type": "code",
   "execution_count": null,
   "metadata": {},
   "outputs": [],
   "source": []
  },
  {
   "cell_type": "code",
   "execution_count": null,
   "metadata": {},
   "outputs": [],
   "source": []
  },
  {
   "cell_type": "code",
   "execution_count": null,
   "metadata": {},
   "outputs": [],
   "source": []
  },
  {
   "cell_type": "code",
   "execution_count": 8,
   "metadata": {},
   "outputs": [],
   "source": [
    "def compare_spatial_reference(output_raster, original_dtm):\n",
    "    with rasterio.open(output_raster) as out_src, rasterio.open(original_dtm) as orig_src:\n",
    "        print(\"Output Raster:\")\n",
    "        print(f\"CRS: {out_src.crs}\")\n",
    "        print(f\"Transform: {out_src.transform}\")\n",
    "        print(f\"Bounds: {out_src.bounds}\")\n",
    "        print(\"\\nOriginal DTM:\")\n",
    "        print(f\"CRS: {orig_src.crs}\")\n",
    "        print(f\"Transform: {orig_src.transform}\")\n",
    "        print(f\"Bounds: {orig_src.bounds}\")\n",
    "        \n",
    "        if out_src.crs == orig_src.crs:\n",
    "            print(\"\\nCRS matches between output and original.\")\n",
    "        else:\n",
    "            print(\"\\nWarning: CRS mismatch between output and original.\")\n",
    "        \n",
    "        if out_src.transform.almost_equals(orig_src.transform):\n",
    "            print(\"Transform matches between output and original.\")\n",
    "        else:\n",
    "            print(\"Warning: Transform mismatch between output and original.\")\n",
    "\n"
   ]
  },
  {
   "cell_type": "code",
   "execution_count": 9,
   "metadata": {},
   "outputs": [
    {
     "name": "stdout",
     "output_type": "stream",
     "text": [
      "Merging input files...\n",
      "Source CRS: EPSG:2958\n",
      "Converting to COG...\n",
      "Warning: CRS may not have been preserved.\n",
      "Source CRS: EPSG:2958\n",
      "Output CRS: PROJCS[\"NAD83(CSRS) / UTM zone 17N\",GEOGCS[\"NAD83(CSRS)\",DATUM[\"NAD83_Canadian_Spatial_Reference_System\",SPHEROID[\"GRS 1980\",6378137,298.257222101,AUTHORITY[\"EPSG\",\"7019\"]],AUTHORITY[\"EPSG\",\"6140\"]],PRIMEM[\"Greenwich\",0,AUTHORITY[\"EPSG\",\"8901\"]],UNIT[\"degree\",0.0174532925199433,AUTHORITY[\"EPSG\",\"9122\"]],AUTHORITY[\"EPSG\",\"4617\"]],PROJECTION[\"Transverse_Mercator\"],PARAMETER[\"latitude_of_origin\",0],PARAMETER[\"central_meridian\",-81],PARAMETER[\"scale_factor\",0.9996],PARAMETER[\"false_easting\",500000],PARAMETER[\"false_northing\",0],UNIT[\"metre\",1,AUTHORITY[\"EPSG\",\"9001\"]],AXIS[\"Easting\",EAST],AXIS[\"Northing\",NORTH],AUTHORITY[\"EPSG\",\"2958\"]]\n",
      "Output Raster:\n",
      "CRS: EPSG:2958\n",
      "Transform: | 0.50, 0.00, 484000.00|\n",
      "| 0.00,-0.50, 5191000.00|\n",
      "| 0.00, 0.00, 1.00|\n",
      "Bounds: BoundingBox(left=484000.0, bottom=5168000.0, right=497000.0, top=5191000.0)\n",
      "\n",
      "Original DTM:\n",
      "CRS: EPSG:2958\n",
      "Transform: | 0.50, 0.00, 493000.00|\n",
      "| 0.00,-0.50, 5172000.00|\n",
      "| 0.00, 0.00, 1.00|\n",
      "Bounds: BoundingBox(left=493000.0, bottom=5171000.0, right=494000.0, top=5172000.0)\n",
      "\n",
      "CRS matches between output and original.\n",
      "Warning: Transform mismatch between output and original.\n"
     ]
    }
   ],
   "source": [
    "# After creating the COG, compare it with an original DTM file\n",
    "output_cog = create_vrt_and_convert_to_cog_2(input_folder, output_folder, True)\n",
    "\n",
    "if output_cog:\n",
    "    # Assuming the first file in input_folder is a representative original DTM\n",
    "    original_dtm = os.path.join(input_folder, os.listdir(input_folder)[0])\n",
    "    compare_spatial_reference(output_cog, original_dtm)\n",
    "else:\n",
    "    print(\"COG creation failed, no comparison performed.\")"
   ]
  },
  {
   "cell_type": "code",
   "execution_count": null,
   "metadata": {},
   "outputs": [],
   "source": []
  },
  {
   "cell_type": "code",
   "execution_count": null,
   "metadata": {},
   "outputs": [],
   "source": []
  },
  {
   "cell_type": "code",
   "execution_count": null,
   "metadata": {},
   "outputs": [],
   "source": []
  },
  {
   "cell_type": "code",
   "execution_count": null,
   "metadata": {},
   "outputs": [],
   "source": [
    "def legacy_create_vrt_and_convert_to_cog(input_folder, output_folder):\n",
    "    os.makedirs(output_folder, exist_ok=True)\n",
    "    vrt_path = os.path.join(output_folder, \"merged.vrt\")\n",
    "    output_cog_path = os.path.join(output_folder, \"final_output_cog.tif\")\n",
    "    input_files = glob.glob(os.path.join(input_folder, \"**\", \"*.tif\"), recursive=True)\n",
    "\n",
    "    vrt = gdal.BuildVRT(vrt_path, input_files, options=gdal.BuildVRTOptions(resampleAlg='nearest', addAlpha=False))\n",
    "    \n",
    "    # Get the CRS from the VRT\n",
    "    src_crs = vrt.GetProjection()\n",
    "    vrt = None\n",
    "\n",
    "    gdal.SetConfigOption('GDAL_CACHEMAX', '1024')\n",
    "    gdal.SetConfigOption('GDAL_NUM_THREADS', 'ALL_CPUS')\n",
    "    \n",
    "    translate_options = gdal.TranslateOptions(\n",
    "        format='COG',\n",
    "        creationOptions=[\n",
    "            \"COMPRESS=LZW\", \"PREDICTOR=2\", \"BIGTIFF=YES\",\n",
    "            \"BLOCKSIZE=512\", \"OVERVIEW_RESAMPLING=AVERAGE\", \"NUM_THREADS=ALL_CPUS\"\n",
    "        ],\n",
    "        outputSRS=src_crs  # Set the output SRS to match the source\n",
    "    )\n",
    "    \n",
    "    gdal.Translate(output_cog_path, vrt_path, options=translate_options)\n",
    "    os.remove(vrt_path)\n",
    "\n",
    "    # Verify the CRS of the output COG\n",
    "    output_ds = gdal.Open(output_cog_path)\n",
    "    output_crs = output_ds.GetProjection()\n",
    "    output_ds = None\n",
    "\n",
    "    if src_crs == output_crs:\n",
    "        print(\"CRS preserved successfully.\")\n",
    "    else:\n",
    "        print(\"Warning: CRS may not have been preserved.\")\n",
    "\n",
    "    return output_cog_path"
   ]
  },
  {
   "cell_type": "code",
   "execution_count": null,
   "metadata": {},
   "outputs": [],
   "source": []
  },
  {
   "cell_type": "code",
   "execution_count": null,
   "metadata": {},
   "outputs": [],
   "source": [
    "def upload_to_aws(local_file, bucket, s3_folder):\n",
    "    s3 = boto3.client('s3')\n",
    "    \n",
    "    try:\n",
    "        file_name = os.path.basename(local_file)\n",
    "        s3_file = os.path.join(s3_folder, file_name)\n",
    "        \n",
    "        print(f\"Uploading {file_name} to AWS S3...\")\n",
    "        s3.upload_file(local_file, bucket, s3_file)\n",
    "        print(f\"Upload Successful. File available at: https://{bucket}.s3.amazonaws.com/{s3_file}\")\n",
    "        return True\n",
    "    except FileNotFoundError:\n",
    "        print(\"The file was not found\")\n",
    "        return False\n",
    "    except NoCredentialsError:\n",
    "        print(\"Credentials not available\")\n",
    "        return False"
   ]
  },
  {
   "cell_type": "code",
   "execution_count": null,
   "metadata": {},
   "outputs": [],
   "source": [
    "# Upload to S3\n",
    "if cog_file:\n",
    "    upload_to_aws(cog_file, 'ccemp-bucket', 'Public Access/COG/')\n",
    "else:\n",
    "    print(\"COG creation failed, no upload attempted.\")"
   ]
  }
 ],
 "metadata": {
  "kernelspec": {
   "display_name": "base",
   "language": "python",
   "name": "python3"
  },
  "language_info": {
   "codemirror_mode": {
    "name": "ipython",
    "version": 3
   },
   "file_extension": ".py",
   "mimetype": "text/x-python",
   "name": "python",
   "nbconvert_exporter": "python",
   "pygments_lexer": "ipython3",
   "version": "3.12.2"
  }
 },
 "nbformat": 4,
 "nbformat_minor": 2
}
