{
 "cells": [
  {
   "cell_type": "code",
   "execution_count": 3,
   "metadata": {},
   "outputs": [],
   "source": [
    "import os\n",
    "import glob\n",
    "\n",
    "import rasterio"
   ]
  },
  {
   "cell_type": "code",
   "execution_count": 4,
   "metadata": {},
   "outputs": [],
   "source": [
    "from osgeo import gdal"
   ]
  },
  {
   "cell_type": "code",
   "execution_count": null,
   "metadata": {},
   "outputs": [],
   "source": [
    "def compare_spatial_reference(output_raster, original_dtm):\n",
    "    with rasterio.open(output_raster) as out_src, rasterio.open(original_dtm) as orig_src:\n",
    "        print(\"Output Raster:\")\n",
    "        print(f\"CRS: {out_src.crs}\")\n",
    "        print(f\"Transform: {out_src.transform}\")\n",
    "        print(f\"Bounds: {out_src.bounds}\")\n",
    "        print(\"\\nOriginal DTM:\")\n",
    "        print(f\"CRS: {orig_src.crs}\")\n",
    "        print(f\"Transform: {orig_src.transform}\")\n",
    "        print(f\"Bounds: {orig_src.bounds}\")\n",
    "        \n",
    "        if out_src.crs == orig_src.crs:\n",
    "            print(\"\\nCRS matches between output and original.\")\n",
    "        else:\n",
    "            print(\"\\nWarning: CRS mismatch between output and original.\")\n",
    "        \n",
    "        if out_src.transform.almost_equals(orig_src.transform):\n",
    "            print(\"Transform matches between output and original.\")\n",
    "        else:\n",
    "            print(\"Warning: Transform mismatch between output and original.\")\n",
    "\n"
   ]
  },
  {
   "cell_type": "code",
   "execution_count": 21,
   "metadata": {},
   "outputs": [],
   "source": [
    "def create_vrt_and_convert_to_cog(input_folders, output_folder, test_mode=False):\n",
    "    os.makedirs(output_folder, exist_ok=True)\n",
    "    vrt_path = os.path.join(output_folder, \"merged.vrt\")\n",
    "    output_cog_path = os.path.join(output_folder, \"final_output_cog.tif\")\n",
    "    \n",
    "    # Collect all input files from the list of input folders\n",
    "    input_files = []\n",
    "    for folder in input_folders:\n",
    "        input_files.extend(sorted(glob.glob(os.path.join(folder, \"**\", \"*.tif\"), recursive=True)))\n",
    "\n",
    "    if test_mode:\n",
    "        input_files = input_files[:10]  # Process only the first 10 files in test mode\n",
    "\n",
    "    # Create a VRT from the input files\n",
    "    vrt = gdal.BuildVRT(vrt_path, input_files, options=gdal.BuildVRTOptions(resampleAlg='nearest', addAlpha=False))\n",
    "    \n",
    "    # Get the CRS from the VRT\n",
    "    src_crs = vrt.GetProjection()\n",
    "    vrt = None  # Close the VRT to free resources\n",
    "\n",
    "    print(\"Setting GDAL configuration options...\")\n",
    "    gdal.SetConfigOption('GDAL_CACHEMAX', '4096')\n",
    "    gdal.SetConfigOption('GDAL_NUM_THREADS', 'ALL_CPUS')\n",
    "    gdal.SetConfigOption('GDAL_MEMORY_LIMIT', '4096')\n",
    "    \n",
    "    \n",
    "    # Define translation options for creating a COG\n",
    "    translate_options = gdal.TranslateOptions(\n",
    "        format='COG',\n",
    "        creationOptions=[\n",
    "            \"COMPRESS=LZW\", \"PREDICTOR=3\", \"BIGTIFF=YES\",\n",
    "            \"BLOCKSIZE=512\", \"OVERVIEW_RESAMPLING=NEAREST\", \"NUM_THREADS=ALL_CPUS\"\n",
    "        ],\n",
    "        outputSRS=src_crs  # Set the output SRS to match the source\n",
    "    )\n",
    "    \n",
    "    print(\"Translating VRT to COG...\")\n",
    "    gdal.Translate(output_cog_path, vrt_path, options=translate_options)\n",
    "    os.remove(vrt_path)  # Remove the VRT after translation\n",
    "\n",
    "    # Verify the CRS of the output COG\n",
    "    output_ds = gdal.Open(output_cog_path)\n",
    "    output_crs = output_ds.GetProjection()\n",
    "    output_ds = None\n",
    "\n",
    "    if src_crs == output_crs:\n",
    "        print(\"CRS preserved successfully.\")\n",
    "    else:\n",
    "        print(\"Warning: CRS may not have been preserved.\")\n",
    "\n",
    "    return output_cog_path"
   ]
  },
  {
   "cell_type": "code",
   "execution_count": 19,
   "metadata": {},
   "outputs": [],
   "source": [
    "# Example usage\n",
    "input_folder = '/Users/shuyang/Data/DTM/Sudbury/Sudbury-DTM-11/DTM'\n",
    "output_folder = '//Users/shuyang/Data/DTM/Sudbury/Sudbury-DTM-11'\n",
    "\n",
    "input_folder ='/Volumes/WD Green/Data/DTM/Sudbury/Sudbury-DTM-11/DTM'\n",
    "output_folder = '/Volumes/WD Green/Data/DTM/Sudbury/Sudbury-DTM-11'"
   ]
  },
  {
   "cell_type": "markdown",
   "metadata": {},
   "source": [
    "## Test"
   ]
  },
  {
   "cell_type": "code",
   "execution_count": 24,
   "metadata": {},
   "outputs": [
    {
     "name": "stdout",
     "output_type": "stream",
     "text": [
      "Setting GDAL configuration options...\n",
      "Translating VRT to COG...\n",
      "Warning: CRS may not have been preserved.\n",
      "Output Raster:\n",
      "CRS: EPSG:2958\n",
      "Transform: | 0.50, 0.00, 484000.00|\n",
      "| 0.00,-0.50, 5175000.00|\n",
      "| 0.00, 0.00, 1.00|\n",
      "Bounds: BoundingBox(left=484000.0, bottom=5165000.0, right=485000.0, top=5175000.0)\n",
      "\n",
      "Original DTM:\n",
      "CRS: EPSG:2958\n",
      "Transform: | 0.50, 0.00, 493000.00|\n",
      "| 0.00,-0.50, 5172000.00|\n",
      "| 0.00, 0.00, 1.00|\n",
      "Bounds: BoundingBox(left=493000.0, bottom=5171000.0, right=494000.0, top=5172000.0)\n",
      "\n",
      "CRS matches between output and original.\n",
      "Warning: Transform mismatch between output and original.\n"
     ]
    }
   ],
   "source": [
    "# Example usage\n",
    "input_folders = ['/Volumes/WD Green/Data/DTM/Sudbury/Sudbury-DTM-11/DTM', '/Volumes/WD Green/Data/DTM/Sudbury/Sudbury-DTM-12']\n",
    "output_folder = '/Volumes/WD Green/Data/DTM/Sudbury/Sudbury-DTM-11'\n",
    "\n",
    "# Call the modified function\n",
    "output_cog = create_vrt_and_convert_to_cog(input_folders, output_folder, True)\n",
    "\n",
    "if output_cog:\n",
    "    # Assuming the first folder in input_folders is a representative original DTM\n",
    "    original_dtm = os.path.join(input_folders[0], os.listdir(input_folders[0])[0])  # Use the first folder\n",
    "    compare_spatial_reference(output_cog, original_dtm)\n",
    "else:\n",
    "    print(\"COG creation failed, no comparison performed.\")"
   ]
  },
  {
   "cell_type": "markdown",
   "metadata": {},
   "source": [
    "## RUN"
   ]
  },
  {
   "cell_type": "code",
   "execution_count": 25,
   "metadata": {},
   "outputs": [
    {
     "name": "stdout",
     "output_type": "stream",
     "text": [
      "Setting GDAL configuration options...\n",
      "Translating VRT to COG...\n",
      "Warning: CRS may not have been preserved.\n"
     ]
    },
    {
     "data": {
      "text/plain": [
       "'/Volumes/WD Green/Data/DTM/Sudbury/final_output_cog.tif'"
      ]
     },
     "execution_count": 25,
     "metadata": {},
     "output_type": "execute_result"
    }
   ],
   "source": [
    "input_folders = ['/Volumes/WD Green/Data/DTM/Sudbury/Sudbury-DTM-11/DTM','/Volumes/WD Green/Data/DTM/Sudbury/Sudbury-DTM-12/DTM']  # Updated to a list\n",
    "output_folder = '/Volumes/WD Green/Data/DTM/Sudbury'\n",
    "create_vrt_and_convert_to_cog(input_folders, output_folder, False)"
   ]
  },
  {
   "cell_type": "code",
   "execution_count": 26,
   "metadata": {},
   "outputs": [
    {
     "name": "stdout",
     "output_type": "stream",
     "text": [
      "Setting GDAL configuration options...\n",
      "Translating VRT to COG...\n"
     ]
    }
   ],
   "source": [
    "input_folders = ['/Volumes/Expansion 1/DTM_UNZIP/Sudbury-DTM-02',\n",
    "                 '/Volumes/Expansion 1/DTM_UNZIP/Sudbury-DTM-03',\n",
    "                 '/Volumes/Expansion 1/DTM_UNZIP/Sudbury-DTM-04',\n",
    "                 '/Volumes/Expansion 1/DTM_UNZIP/Sudbury-DTM-05',\n",
    "                 '/Volumes/Expansion 1/DTM_UNZIP/Sudbury-DTM-06',\n",
    "                 '/Volumes/Expansion 1/DTM_UNZIP/Sudbury-DTM-07',\n",
    "                 '/Volumes/Expansion 1/DTM_UNZIP/Sudbury-DTM-08',\n",
    "                 '/Volumes/Expansion 1/DTM_UNZIP/Sudbury-DTM-09',\n",
    "                 '/Volumes/Expansion 1/DTM_UNZIP/Sudbury-DTM-10',\n",
    "                 '/Volumes/Expansion 1/DTM_UNZIP/Sudbury-DTM-11',\n",
    "                 '/Volumes/Expansion 1/DTM_UNZIP/Sudbury-DTM-12',\n",
    "                 '/Volumes/Expansion 1/DTM_UNZIP/Sudbury-DTM-13',\n",
    "                 '/Volumes/Expansion 1/DTM_UNZIP/Sudbury-DTM-14'\n",
    "                 ]\n",
    "\n",
    "output_folder = '/Volumes/Expansion 1/DTM_COG'\n",
    "create_vrt_and_convert_to_cog(input_folders, output_folder, False)\n"
   ]
  },
  {
   "cell_type": "code",
   "execution_count": null,
   "metadata": {},
   "outputs": [],
   "source": []
  },
  {
   "cell_type": "code",
   "execution_count": null,
   "metadata": {},
   "outputs": [],
   "source": []
  },
  {
   "cell_type": "code",
   "execution_count": null,
   "metadata": {},
   "outputs": [],
   "source": []
  },
  {
   "cell_type": "code",
   "execution_count": null,
   "metadata": {},
   "outputs": [],
   "source": []
  },
  {
   "cell_type": "code",
   "execution_count": null,
   "metadata": {},
   "outputs": [],
   "source": []
  },
  {
   "cell_type": "code",
   "execution_count": null,
   "metadata": {},
   "outputs": [],
   "source": []
  },
  {
   "cell_type": "code",
   "execution_count": null,
   "metadata": {},
   "outputs": [],
   "source": [
    "def legcy_merge_and_convert_to_cog(input_folder, output_folder, test_mode=False):\n",
    "    os.makedirs(output_folder, exist_ok=True)\n",
    "    intermediate_file = os.path.join(output_folder, \"merged.tif\")\n",
    "    output_cog_path = os.path.join(output_folder, \"final_output_cog.tif\")\n",
    "    input_files = sorted(glob.glob(os.path.join(input_folder, \"**\", \"*.tif\"), recursive=True))\n",
    "\n",
    "    if test_mode:\n",
    "        input_files = input_files[:10]  # Process only the first 10 files in test mode\n",
    "\n",
    "    # Get the CRS from the first input file\n",
    "    with rasterio.open(input_files[0]) as src:\n",
    "        src_crs = src.crs\n",
    "\n",
    "    print(\"Merging input files...\")\n",
    "    gdal.Warp(intermediate_file, input_files, options=gdal.WarpOptions(srcSRS=src_crs, dstSRS=src_crs))\n",
    "\n",
    "    intermediate_ds = gdal.Open(intermediate_file)\n",
    "    if intermediate_ds is None:\n",
    "        print(\"Error: Could not open intermediate file.\")\n",
    "        return None\n",
    "\n",
    "    print(f\"Source CRS: {src_crs}\")\n",
    "\n",
    "    gdal.SetConfigOption('GDAL_CACHEMAX', '1024')\n",
    "    gdal.SetConfigOption('GDAL_NUM_THREADS', 'ALL_CPUS')\n",
    "    \n",
    "    translate_options = gdal.TranslateOptions(\n",
    "        format='COG',\n",
    "        creationOptions=[\n",
    "            \"COMPRESS=LZW\", \"PREDICTOR=2\", \"BIGTIFF=YES\",\n",
    "            \"BLOCKSIZE=512\", \"OVERVIEW_RESAMPLING=AVERAGE\", \"NUM_THREADS=ALL_CPUS\"\n",
    "        ],\n",
    "        outputSRS=src_crs\n",
    "    )\n",
    "    \n",
    "    print(\"Converting to COG...\")\n",
    "    gdal.Translate(output_cog_path, intermediate_file, options=translate_options)\n",
    "    os.remove(intermediate_file)\n",
    "\n",
    "    output_ds = gdal.Open(output_cog_path)\n",
    "    if output_ds is None:\n",
    "        print(\"Error: Could not open output COG file.\")\n",
    "        return None\n",
    "\n",
    "    output_crs = output_ds.GetProjection()\n",
    "    output_ds = None\n",
    "\n",
    "    if src_crs.to_string() == output_crs:\n",
    "        print(\"CRS preserved successfully.\")\n",
    "    else:\n",
    "        print(\"Warning: CRS may not have been preserved.\")\n",
    "        print(f\"Source CRS: {src_crs}\")\n",
    "        print(f\"Output CRS: {output_crs}\")\n",
    "\n",
    "    return output_cog_path"
   ]
  },
  {
   "cell_type": "code",
   "execution_count": null,
   "metadata": {},
   "outputs": [],
   "source": []
  }
 ],
 "metadata": {
  "kernelspec": {
   "display_name": "base",
   "language": "python",
   "name": "python3"
  },
  "language_info": {
   "codemirror_mode": {
    "name": "ipython",
    "version": 3
   },
   "file_extension": ".py",
   "mimetype": "text/x-python",
   "name": "python",
   "nbconvert_exporter": "python",
   "pygments_lexer": "ipython3",
   "version": "3.9.10"
  }
 },
 "nbformat": 4,
 "nbformat_minor": 2
}
