{
 "cells": [
  {
   "cell_type": "code",
   "execution_count": 5,
   "metadata": {},
   "outputs": [],
   "source": [
    "import os\n",
    "import rasterio\n",
    "from rasterio.transform import from_bounds\n",
    "from shapely.geometry import box, mapping\n",
    "import geojson\n",
    "\n",
    "\n",
    "\n"
   ]
  },
  {
   "cell_type": "code",
   "execution_count": 6,
   "metadata": {},
   "outputs": [
    {
     "name": "stdout",
     "output_type": "stream",
     "text": [
      "GeoJSON file saved as output_tiles.geojson\n"
     ]
    },
    {
     "name": "stderr",
     "output_type": "stream",
     "text": [
      "ERROR 1: PROJ: internal_proj_identify: /Users/b/miniforge3/share/proj/proj.db contains DATABASE.LAYOUT.VERSION.MINOR = 2 whereas a number >= 3 is expected. It comes from another PROJ installation.\n"
     ]
    }
   ],
   "source": [
    "\n",
    "# Directory containing all the 1km x 1km raster tiles\n",
    "raster_directory = \"/Volumes/Expansion/DTM_UNZIP/Belleville-DTM-A\"\n",
    "\n",
    "# List to store GeoJSON features\n",
    "features = []\n",
    "\n",
    "# Initialize an empty CRS variable\n",
    "crs = None\n",
    "\n",
    "# Iterate over each file in the directory\n",
    "for filename in os.listdir(raster_directory):\n",
    "    if filename.endswith('.tif'):  # Check if the file is a raster\n",
    "        raster_path = os.path.join(raster_directory, filename)\n",
    "        \n",
    "        with rasterio.open(raster_path) as src:\n",
    "            # Get bounds of the raster\n",
    "            bounds = src.bounds\n",
    "            \n",
    "            # Create a polygon (square) from the bounds\n",
    "            polygon = box(bounds.left, bounds.bottom, bounds.right, bounds.top)\n",
    "            \n",
    "            # Create a GeoJSON feature for this tile\n",
    "            feature = geojson.Feature(\n",
    "                geometry=mapping(polygon),\n",
    "                properties={\"filename\": filename}\n",
    "            )\n",
    "            \n",
    "            features.append(feature)\n",
    "            \n",
    "            # Store the CRS from the first raster file\n",
    "            if crs is None:\n",
    "                crs = src.crs\n",
    "\n",
    "# Create a GeoJSON FeatureCollection\n",
    "feature_collection = geojson.FeatureCollection(features)\n",
    "\n",
    "# Check if CRS is found and add it to the FeatureCollection\n",
    "if crs:\n",
    "    feature_collection['crs'] = {\n",
    "        \"type\": \"name\",\n",
    "        \"properties\": {\n",
    "            \"name\": crs.to_string()  # Convert CRS to a string format for GeoJSON\n",
    "        }\n",
    "    }\n",
    "\n",
    "\n"
   ]
  },
  {
   "cell_type": "code",
   "execution_count": 9,
   "metadata": {},
   "outputs": [
    {
     "name": "stdout",
     "output_type": "stream",
     "text": [
      "GeoJSON file saved as output_tiles.geojson\n"
     ]
    }
   ],
   "source": [
    "# Output GeoJSON file path\n",
    "output_geojson = \"output_tiles.geojson\"\n",
    "\n",
    "# Write the FeatureCollection to a GeoJSON file\n",
    "with open(output_geojson, 'w') as f:\n",
    "    geojson.dump(feature_collection, f, indent=2)\n",
    "\n",
    "print(f\"GeoJSON file saved as {output_geojson}\")"
   ]
  }
 ],
 "metadata": {
  "kernelspec": {
   "display_name": "base",
   "language": "python",
   "name": "python3"
  },
  "language_info": {
   "codemirror_mode": {
    "name": "ipython",
    "version": 3
   },
   "file_extension": ".py",
   "mimetype": "text/x-python",
   "name": "python",
   "nbconvert_exporter": "python",
   "pygments_lexer": "ipython3",
   "version": "3.9.10"
  }
 },
 "nbformat": 4,
 "nbformat_minor": 2
}
