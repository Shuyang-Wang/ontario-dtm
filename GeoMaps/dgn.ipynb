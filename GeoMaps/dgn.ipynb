{
 "cells": [
  {
   "cell_type": "code",
   "execution_count": 1,
   "metadata": {},
   "outputs": [
    {
     "name": "stdout",
     "output_type": "stream",
     "text": [
      "Failed to open DGN file.\n"
     ]
    },
    {
     "name": "stderr",
     "output_type": "stream",
     "text": [
      "/opt/homebrew/Caskroom/miniconda/base/envs/gdal_env/lib/python3.12/site-packages/osgeo/gdal.py:312: FutureWarning: Neither gdal.UseExceptions() nor gdal.DontUseExceptions() has been explicitly called. In GDAL 4.0, exceptions will be enabled by default.\n",
      "  warnings.warn(\n",
      "ERROR 4: `/Users/shuyang/Data/DTM/Sudbury/M2521/M2521.dgn' not recognized as being in a supported file format.\n"
     ]
    }
   ],
   "source": [
    "import matplotlib.pyplot as plt\n",
    "from osgeo import gdal\n",
    "import numpy as np\n",
    "\n",
    "# Path to the DGN file\n",
    "dgn_file_path = \"/Users/shuyang/Data/DTM/Sudbury/M2521/M2521.dgn\"\n",
    "\n",
    "# Open the DGN file with GDAL\n",
    "dataset = gdal.Open(dgn_file_path)\n",
    "\n",
    "# Check if the file is opened successfully\n",
    "if not dataset:\n",
    "    print(\"Failed to open DGN file.\")\n",
    "else:\n",
    "    # Get raster band (assuming the DGN file contains raster data)\n",
    "    band = dataset.GetRasterBand(1)\n",
    "\n",
    "    # Read the band as an array\n",
    "    array = band.ReadAsArray()\n",
    "\n",
    "    # Display the array using matplotlib\n",
    "    plt.figure(figsize=(10, 10))\n",
    "    plt.imshow(array, cmap=\"gray\")\n",
    "    plt.title(\"DGN File Visualization\")\n",
    "    plt.colorbar()\n",
    "    plt.show()\n"
   ]
  },
  {
   "cell_type": "code",
   "execution_count": null,
   "metadata": {},
   "outputs": [],
   "source": []
  },
  {
   "cell_type": "code",
   "execution_count": null,
   "metadata": {},
   "outputs": [],
   "source": []
  }
 ],
 "metadata": {
  "kernelspec": {
   "display_name": "base",
   "language": "python",
   "name": "python3"
  },
  "language_info": {
   "codemirror_mode": {
    "name": "ipython",
    "version": 3
   },
   "file_extension": ".py",
   "mimetype": "text/x-python",
   "name": "python",
   "nbconvert_exporter": "python",
   "pygments_lexer": "ipython3",
   "version": "3.12.7"
  }
 },
 "nbformat": 4,
 "nbformat_minor": 2
}
