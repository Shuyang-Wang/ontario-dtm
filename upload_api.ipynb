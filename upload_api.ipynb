{
 "cells": [
  {
   "cell_type": "code",
   "execution_count": 3,
   "metadata": {},
   "outputs": [],
   "source": [
    "import os\n",
    "import requests\n",
    "import boto3\n",
    "\n",
    "# Configuration\n",
    "MAPBOX_USERNAME = 'shuyangwang'\n",
    "MAPBOX_ACCESS_TOKEN = 'sk.eyJ1Ijoic2h1eWFuZ3dhbmciLCJhIjoiY20xZHY2ZmwxMnE0cjJqcHNrNmd1M2YwMiJ9.9GvM0blOBJmCVlpLE-ABYw'\n",
    "TIFF_FILE_PATH = '/Users/shuyang/Data/DTM/LakeNipissing-DTM-D/hillshade/Projected/merged_output_optimized.tif'  # Path to your TIFF file\n",
    "TILESET_NAME = 'LakeNipissing-DTM-C_Optimized'  # Custom name for your tileset"
   ]
  },
  {
   "cell_type": "code",
   "execution_count": 4,
   "metadata": {},
   "outputs": [
    {
     "name": "stdout",
     "output_type": "stream",
     "text": [
      "Retrieving S3 credentials...\n",
      "Credentials retrieved successfully.\n",
      "Staging file on S3...\n",
      "File staged in bucket: tilestream-tilesets-production, key: 2f/_pending/bf76calkjqm1b1s5mxgmgf1mc/shuyangwang\n",
      "Creating upload in Mapbox...\n",
      "Error creating upload: {\"message\":\"An upload is already active\"}\n",
      "An error occurred: 422 Client Error: Unprocessable Entity for url: https://api.mapbox.com/uploads/v1/shuyangwang?access_token=sk.eyJ1Ijoic2h1eWFuZ3dhbmciLCJhIjoiY20xZHY2ZmwxMnE0cjJqcHNrNmd1M2YwMiJ9.9GvM0blOBJmCVlpLE-ABYw\n"
     ]
    }
   ],
   "source": [
    "\n",
    "\n",
    "# Step 1: Retrieve temporary credentials\n",
    "def get_s3_credentials():\n",
    "    print(\"Retrieving S3 credentials...\")\n",
    "    url = f'https://api.mapbox.com/uploads/v1/{MAPBOX_USERNAME}/credentials?access_token={MAPBOX_ACCESS_TOKEN}'\n",
    "    response = requests.post(url)\n",
    "    \n",
    "    if response.status_code != 200:\n",
    "        print(\"Error retrieving credentials:\", response.text)\n",
    "        response.raise_for_status()\n",
    "    \n",
    "    print(\"Credentials retrieved successfully.\")\n",
    "    return response.json()\n",
    "\n",
    "# Step 2: Stage the file on Amazon S3\n",
    "def stage_file_on_s3(credentials, file_path):\n",
    "    print(\"Staging file on S3...\")\n",
    "    s3 = boto3.client(\n",
    "        's3',\n",
    "        aws_access_key_id=credentials['accessKeyId'],\n",
    "        aws_secret_access_key=credentials['secretAccessKey'],\n",
    "        aws_session_token=credentials['sessionToken'],\n",
    "    )\n",
    "    \n",
    "    bucket = credentials['bucket']\n",
    "    key = credentials['key']\n",
    "    \n",
    "    try:\n",
    "        s3.upload_file(Filename=file_path, Bucket=bucket, Key=key)\n",
    "        print(f'File staged in bucket: {bucket}, key: {key}')\n",
    "    except Exception as e:\n",
    "        print(\"Error uploading file to S3:\", str(e))\n",
    "        raise\n",
    "    \n",
    "    return bucket, key\n",
    "\n",
    "# Step 3: Create an upload in Mapbox\n",
    "def create_upload(bucket, key, tileset_name):\n",
    "    print(\"Creating upload in Mapbox...\")\n",
    "    url = f'https://api.mapbox.com/uploads/v1/{MAPBOX_USERNAME}?access_token={MAPBOX_ACCESS_TOKEN}'\n",
    "    payload = {\n",
    "        'url': f'http://{bucket}.s3.amazonaws.com/{key}',\n",
    "        'tileset': f'{MAPBOX_USERNAME}.{tileset_name}',  # Use the custom tileset name\n",
    "        'name': tileset_name  # Use the custom name\n",
    "    }\n",
    "    \n",
    "    response = requests.post(url, json=payload)\n",
    "    \n",
    "    if response.status_code != 201:\n",
    "        print(\"Error creating upload:\", response.text)\n",
    "        response.raise_for_status()\n",
    "    \n",
    "    print(\"Upload created successfully.\")\n",
    "    return response.json()\n",
    "\n",
    "# Execute the upload process\n",
    "try:\n",
    "    # Get temporary credentials\n",
    "    credentials = get_s3_credentials()\n",
    "\n",
    "    # Set AWS environment variables\n",
    "    os.environ['AWS_ACCESS_KEY_ID'] = credentials['accessKeyId']\n",
    "    os.environ['AWS_SECRET_ACCESS_KEY'] = credentials['secretAccessKey']\n",
    "    os.environ['AWS_SESSION_TOKEN'] = credentials['sessionToken']\n",
    "\n",
    "    # Stage the file\n",
    "    bucket, key = stage_file_on_s3(credentials, TIFF_FILE_PATH)\n",
    "\n",
    "    # Create the upload with a custom tileset name\n",
    "    upload_response = create_upload(bucket, key, TILESET_NAME)\n",
    "    print('Upload initiated:', upload_response)\n",
    "\n",
    "except Exception as e:\n",
    "    print(\"An error occurred:\", str(e))\n"
   ]
  },
  {
   "cell_type": "code",
   "execution_count": null,
   "metadata": {},
   "outputs": [],
   "source": []
  }
 ],
 "metadata": {
  "kernelspec": {
   "display_name": "base",
   "language": "python",
   "name": "python3"
  },
  "language_info": {
   "codemirror_mode": {
    "name": "ipython",
    "version": 3
   },
   "file_extension": ".py",
   "mimetype": "text/x-python",
   "name": "python",
   "nbconvert_exporter": "python",
   "pygments_lexer": "ipython3",
   "version": "3.12.2"
  }
 },
 "nbformat": 4,
 "nbformat_minor": 2
}
